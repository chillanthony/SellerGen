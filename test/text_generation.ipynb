{
 "cells": [
  {
   "cell_type": "markdown",
   "metadata": {},
   "source": [
    "# Text Generation"
   ]
  },
  {
   "cell_type": "code",
   "execution_count": 1,
   "metadata": {},
   "outputs": [
    {
     "name": "stdout",
     "output_type": "stream",
     "text": [
      "Intel MKL WARNING: Support of Intel(R) Streaming SIMD Extensions 4.2 (Intel(R) SSE4.2) enabled only processors has been deprecated. Intel oneAPI Math Kernel Library 2025.0 will require Intel(R) Advanced Vector Extensions (Intel(R) AVX) instructions.\n",
      "Intel MKL WARNING: Support of Intel(R) Streaming SIMD Extensions 4.2 (Intel(R) SSE4.2) enabled only processors has been deprecated. Intel oneAPI Math Kernel Library 2025.0 will require Intel(R) Advanced Vector Extensions (Intel(R) AVX) instructions.\n"
     ]
    }
   ],
   "source": [
    "from utils import *"
   ]
  },
  {
   "cell_type": "code",
   "execution_count": 2,
   "metadata": {},
   "outputs": [
    {
     "name": "stdout",
     "output_type": "stream",
     "text": [
      "你可以通过以下方式获取实时天气信息：  \n",
      "\n",
      "1. **天气预报应用**：如手机自带的天气应用（如苹果天气、华为天气等）或第三方应用（如墨迹天气、彩云天气）。  \n",
      "2. **搜索引擎**：在浏览器中搜索“你所在城市 + 天气”（例如“北京天气”），Google、百度等会显示实时天气情况。  \n",
      "3. **语音助手**：通过Siri、小爱同学、Google Assistant等询问“今天天气怎么样”。  \n",
      "\n",
      "如果你告诉我所在的城市或地区，我也可以帮你查找最新的天气信息！ ☀️🌧️⛅\n"
     ]
    }
   ],
   "source": [
    "''' \n",
    "one_round_chat()\n",
    "向deepseek发出请求并返回\n",
    "message_system: 背景信息\n",
    "message_user: 用户的请求\n",
    "max_tokens: 最大输入token（超过时截断） default = 4096\n",
    "temperature (0, 2): 模型发散性 default = 1\n",
    "frequency_penalty (-2, 2): 请求与回复的不一致性 default = 0\n",
    "max_retries: 最大尝试次数（连接失败） default = 5\n",
    "'''\n",
    "\n",
    "message_system = \"你是一个助手\"\n",
    "message_user = \"今天的天气怎么样\"\n",
    "result = one_round_chat(message_system, message_user)\n",
    "\n",
    "print(result)"
   ]
  },
  {
   "cell_type": "markdown",
   "metadata": {},
   "source": [
    "## 实验\n",
    "- 文案公式\n",
    "  - 亮点\n",
    "  - 描述\n",
    "  - 反思 "
   ]
  },
  {
   "cell_type": "code",
   "execution_count": 5,
   "metadata": {},
   "outputs": [],
   "source": [
    "message_system = '''\n",
    "\n",
    "## 角色设定\n",
    "你是一名资深软文创作专家，擅长用「悬念设问+故事共鸣+价值升华」的三段式结构撰写传播性极强的文案。请严格按以下框架创作：\n",
    "\n",
    "## 核心指令\n",
    "\n",
    "**1. 开头设问句（1-2句）**  \n",
    "- 要求：使用「认知冲突法」或「数据冲击法」制造悬念    \n",
    "\n",
    "**2. 主题故事（约500字）**  \n",
    "- 必须包含要素：  \n",
    "  - 冲突\n",
    "  - 转折  \n",
    "  - 结果\n",
    "\n",
    "**3. 反思升华（约200字）**  \n",
    "- 必须达成：  \n",
    "  - 关联社会现象 \n",
    "  - 行动暗示  \n",
    "- 禁忌：  \n",
    "  - 出现\"购买\"\"下单\"等推销词汇\n",
    "  \n",
    "注意：输出的文案中不含其他副标题，如“开头设问句”“主题故事”，也不包含'*'等特殊字符，只保留纯文稿\n",
    "\n",
    "'''\n"
   ]
  },
  {
   "cell_type": "code",
   "execution_count": 6,
   "metadata": {},
   "outputs": [
    {
     "name": "stdout",
     "output_type": "stream",
     "text": [
      "你知道吗？为什么中国西南边陲的一座小城，至今仍拒绝接待日本游客？  \n",
      "\n",
      "在云南腾冲，有一座特殊的城市记忆。1942年，日军入侵滇西，腾冲成为抗战最惨烈的战场之一。两年间，这座古城几乎被炮火夷为平地，无数百姓和战士血染山河。当中国军队反攻时，腾冲人民用生命为部队带路、送粮，最终全歼日军，成为全国第一座光复的县城。  \n",
      "\n",
      "战后重建时，腾冲人做了一个惊人的决定：在城中心的国殇墓园里，将四名日军军官跪像永远面朝烈士陵园谢罪。八十年来，这座小城始终保持着一种沉默的坚持——不对日本游客开放旅游接待。有日本旅行团曾想高价包场参观，被当地导游一口回绝：\"有些历史，不是钱能抹去的。\"  \n",
      "\n",
      "这种坚守令人深思。在这个全球化时代，腾冲的选择或许显得\"不合时宜\"，但正是这样的集体记忆，构成了一个民族的脊梁。它提醒我们：宽容不等于遗忘，开放不意味着妥协。每一个中国人心里都该有座\"腾冲城\"——记得来时的路，才能看清前行的方向。\n"
     ]
    }
   ],
   "source": [
    "message_user = \"请你为我写一段文案，主旨是国家伟大，主题故事是腾冲市为纪念抗日不接待日本客人\"\n",
    "result = one_round_chat(message_system, message_user)\n",
    "\n",
    "print(result)"
   ]
  },
  {
   "cell_type": "code",
   "execution_count": null,
   "metadata": {},
   "outputs": [],
   "source": []
  }
 ],
 "metadata": {
  "kernelspec": {
   "display_name": "video",
   "language": "python",
   "name": "python3"
  },
  "language_info": {
   "codemirror_mode": {
    "name": "ipython",
    "version": 3
   },
   "file_extension": ".py",
   "mimetype": "text/x-python",
   "name": "python",
   "nbconvert_exporter": "python",
   "pygments_lexer": "ipython3",
   "version": "3.11.3"
  }
 },
 "nbformat": 4,
 "nbformat_minor": 2
}
