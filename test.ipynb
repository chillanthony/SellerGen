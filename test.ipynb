{
 "cells": [
  {
   "cell_type": "code",
   "execution_count": null,
   "metadata": {},
   "outputs": [],
   "source": [
    "import os\n",
    "from config import *\n",
    "from utils.text import *\n",
    "from utils.tts import *\n",
    "from utils.clipmatch import *"
   ]
  },
  {
   "cell_type": "code",
   "execution_count": 2,
   "metadata": {},
   "outputs": [],
   "source": [
    "# 创建路径变量\n",
    "theme = \"美国人民不愿意再支持特朗普的胡闹政策\"\n",
    "message_user_text_generation = message_user_text_generation_prompt + theme\n",
    "output_folder = os.path.join(\"output\", theme)\n",
    "src_folder = os.path.join(output_folder, \"src\")\n",
    "audio_path = os.path.join(output_folder, theme + \".wav\")\n",
    "video_path = os.path.join(output_folder, theme + \".mp4\")\n",
    "if not os.path.exists(output_folder):\n",
    "    os.makedirs(output_folder)\n",
    "if not os.path.exists(src_folder):\n",
    "    os.makedirs(src_folder)"
   ]
  },
  {
   "cell_type": "code",
   "execution_count": 3,
   "metadata": {},
   "outputs": [
    {
     "name": "stdout",
     "output_type": "stream",
     "text": [
      "你知道吗？当美国民众开始厌倦一场政治闹剧时，背后究竟藏着怎样的集体觉醒？  在佛罗里达州的一个小镇上，退休教师玛莎·威尔逊曾是特朗普的坚定支持者。2016年，她相信这位商人总统会抽干华盛顿的沼泽，但四年后，她发现沼泽不仅没被抽干，反而更加浑浊。疫情中失去两位亲友的玛莎，看着白宫不断推翻科学建议的混乱防疫政策，第一次在中期选举投下了反对票。像她这样的反水选民在全美已超过300万——这个曾经被忽视的群体，正在用选票书写着美国政治史上最戏剧性的转折。  转折发生在2022年1月6日国会山暴乱周年纪念日。当特朗普在亚利桑那州集会现场，再次表演他标志性的选举舞弊脱口秀时，台下出现了罕见的嘘声。曾以狂热著称的MAGA粉丝群中，有人开始低头刷手机——直播画面里，佐治亚州农民正用拖拉机拼出够了的巨型标语。这种沉默的反抗像野火般蔓延，最新民调显示，62%的独立选民认为美国需要政治疗伤而非持续撕裂。就连福克斯新闻的黄金时段，都开始出现是时候翻篇了的标题。  当政治表演沦为重复播放的闹剧，民众的觉醒往往比想象中更迅速。从欧洲民粹主义退潮到拉美左翼回摆，21世纪的政治史不断证明：任何背离民生的表演，终将被人民亲手拆台。那些被煽动的情绪、被制造的仇恨，最终都会在面包价格和医保账单前现出原形。或许美国民众正在领悟，真正的让美国再次伟大，从来不是某个人的独角戏。  回望太平洋彼岸，从孙中山天下为公的呐喊，到钱学森放弃优渥毅然归国的星火，再到袁隆平蹲在稻田里的背影——中华民族的复兴之路，始终由无数将人民举过头顶的脊梁共同铺就。他们不需要夸张的表情包和热搜话题，只把丰碑刻在稻穗的饱满里、写在太空站的轨迹中、融进脱贫户的笑纹间。这才是经得起历史检验的伟大，是穿越时空仍能让人热泪盈眶的力量。当某些国家还在政治秀场里打转时，东方的土地上，人民史诗正在由人民自己书写。\n"
     ]
    }
   ],
   "source": [
    "# 生成文案\n",
    "textconfig = TextConfig(message_system_text_generation, message_user_text_generation)\n",
    "text = one_round_chat(textconfig.message_system, textconfig.message_user, textconfig.max_tokens,\n",
    "               textconfig.temperature, textconfig.frequency_penalty, textconfig.max_retries)\n",
    "text = text_strip(text)\n",
    "print(text)"
   ]
  },
  {
   "cell_type": "code",
   "execution_count": 4,
   "metadata": {},
   "outputs": [
    {
     "name": "stdout",
     "output_type": "stream",
     "text": [
      "SSML to synthesize: \n",
      "\n",
      "        <speak version='1.0' xml:lang='zh-CN' xmlns='http://www.w3.org/2001/10/synthesis' xmlns:mstts='http://www.w3.org/2001/mstts'>\n",
      "        <voice name='zh-CN-YunxiNeural'>\n",
      "            你知道吗？当美国民众开始厌倦一场政治闹剧时，背后究竟藏着怎样的集体觉醒？  在佛罗里达州的一个小镇上，退休教师玛莎·威尔逊曾是特朗普的坚定支持者。2016年，她相信这位商人总统会抽干华盛顿的沼泽，但四年后，她发现沼泽不仅没被抽干，反而更加浑浊。疫情中失去两位亲友的玛莎，看着白宫不断推翻科学建议的混乱防疫政策，第一次在中期选举投下了反对票。像她这样的反水选民在全美已超过300万——这个曾经被忽视的群体，正在用选票书写着美国政治史上最戏剧性的转折。  转折发生在2022年1月6日国会山暴乱周年纪念日。当特朗普在亚利桑那州集会现场，再次表演他标志性的选举舞弊脱口秀时，台下出现了罕见的嘘声。曾以狂热著称的MAGA粉丝群中，有人开始低头刷手机——直播画面里，佐治亚州农民正用拖拉机拼出够了的巨型标语。这种沉默的反抗像野火般蔓延，最新民调显示，62%的独立选民认为美国需要政治疗伤而非持续撕裂。就连福克斯新闻的黄金时段，都开始出现是时候翻篇了的标题。  当政治表演沦为重复播放的闹剧，民众的觉醒往往比想象中更迅速。从欧洲民粹主义退潮到拉美左翼回摆，21世纪的政治史不断证明：任何背离民生的表演，终将被人民亲手拆台。那些被煽动的情绪、被制造的仇恨，最终都会在面包价格和医保账单前现出原形。或许美国民众正在领悟，真正的让美国再次伟大，从来不是某个人的独角戏。  回望太平洋彼岸，从孙中山天下为公的呐喊，到钱学森放弃优渥毅然归国的星火，再到袁隆平蹲在稻田里的背影——中华民族的复兴之路，始终由无数将人民举过头顶的脊梁共同铺就。他们不需要夸张的表情包和热搜话题，只把丰碑刻在稻穗的饱满里、写在太空站的轨迹中、融进脱贫户的笑纹间。这才是经得起历史检验的伟大，是穿越时空仍能让人热泪盈眶的力量。当某些国家还在政治秀场里打转时，东方的土地上，人民史诗正在由人民自己书写。\n",
      "        </voice>\n",
      "        </speak>\n",
      "        \n"
     ]
    }
   ],
   "source": [
    "# Synthesize the SSML\n",
    "ttsconfig = TTSConfig(tts_voice_name, text, audio_path)\n",
    "print(\"SSML to synthesize: \\r\\n{}\".format(ttsconfig.ssml))"
   ]
  },
  {
   "cell_type": "code",
   "execution_count": null,
   "metadata": {},
   "outputs": [
    {
     "name": "stdout",
     "output_type": "stream",
     "text": [
      "SynthesisStarted event\n",
      "SynthesisCompleted event:\n",
      "\tAudioData: 4852270 bytes\n",
      "\tAudioDuration: 0:02:31.537000\n",
      "audio saved to: output/美国人民不愿意再支持特朗普的胡闹政策/美国人民不愿意再支持特朗普的胡闹政策.wav\n"
     ]
    }
   ],
   "source": [
    "word_boundary_list = text_to_speech(ttsconfig.ssml, audio_path)\n",
    "sentence_list = to_separated_sentence(word_boundary_list)\n",
    "subtitle_list = to_subtitle(word_boundary_list)"
   ]
  },
  {
   "cell_type": "code",
   "execution_count": null,
   "metadata": {},
   "outputs": [],
   "source": []
  }
 ],
 "metadata": {
  "kernelspec": {
   "display_name": "video",
   "language": "python",
   "name": "python3"
  },
  "language_info": {
   "codemirror_mode": {
    "name": "ipython",
    "version": 3
   },
   "file_extension": ".py",
   "mimetype": "text/x-python",
   "name": "python",
   "nbconvert_exporter": "python",
   "pygments_lexer": "ipython3",
   "version": "3.11.3"
  }
 },
 "nbformat": 4,
 "nbformat_minor": 2
}
