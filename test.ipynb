{
 "cells": [
  {
   "cell_type": "code",
   "execution_count": 1,
   "metadata": {},
   "outputs": [],
   "source": [
    "import os\n",
    "from config import *\n",
    "from utils.text import *\n",
    "from utils.tts import *\n",
    "from utils.clipmatch import *"
   ]
  },
  {
   "cell_type": "code",
   "execution_count": 2,
   "metadata": {},
   "outputs": [],
   "source": [
    "# 创建路径变量\n",
    "theme = \"美国人民不愿意再支持特朗普的胡闹政策\"\n",
    "message_user_text_generation = message_user_text_generation_prompt + theme\n",
    "output_folder = os.path.join(\"output\", theme)\n",
    "src_folder = os.path.join(output_folder, \"src\")\n",
    "audio_path = os.path.join(output_folder, theme + \".wav\")\n",
    "video_path = os.path.join(output_folder, theme + \".mp4\")\n",
    "if not os.path.exists(output_folder):\n",
    "    os.makedirs(output_folder)\n",
    "if not os.path.exists(src_folder):\n",
    "    os.makedirs(src_folder)"
   ]
  },
  {
   "cell_type": "code",
   "execution_count": 3,
   "metadata": {},
   "outputs": [
    {
     "name": "stdout",
     "output_type": "stream",
     "text": [
      "你是否注意到，曾经狂热的让美国再次伟大口号，如今在街头巷尾渐渐沉寂？最新民调显示，超过62%的美国选民认为特朗普的政策正在撕裂这个国家——究竟是什么让铁杆粉丝开始动摇？2020年大选夜的场景仍历历在目。当特朗普拒绝承认败选时，他最忠实的支持者之一，退役海军陆战队员马克·泰勒在亚利桑那州议会大厦前举着尊重民主的标语站了整整三天。这位曾为特朗普四次集会担任志愿者的硬汉，在个人博客写下：当领导人不愿为整个国家服务时，我们必须选择国家而非个人。与此同时，佛罗里达州的柑橘农霍华德家族面临破产——他们曾坚信特朗普的贸易战会保护本土农业，却等来了中国反制关税下滞销的橙子堆满仓库。最戏剧性的转折发生在得克萨斯州，共和党资深议员克鲁兹的侄女公开宣布退出共和党，她在《休斯顿纪事报》的专栏中质问：当'建墙'政策导致边境农场主失去墨西哥劳工，当医保改革让慢性病患者失去保障，这还是我们追求的保守主义吗？这些故事折射出的不仅是个人选择的变化。从匿名者Q阴谋论的破灭，到国会山暴乱事件的集体反思，美国社会正在经历一场沉默的觉醒。当极端化政治演变成民生灾难，当民粹主义口号撞上现实铁壁，普通人的生存智慧终将战胜煽动性 rhetoric。这提醒着我们：任何背离人民根本利益的政治表演，无论包装得多么华丽，最终都会在时代洪流中现出原形。回望太平洋彼岸，从孙中山先生天下为公的呐喊，到钱学森放弃优渥待遇毅然归国；从邓稼先隐姓埋名研制核盾牌，到袁隆平院士蹲守田间培育杂交水稻。这些民族的脊梁用毕生诠释了何为以人民为中心。他们如同璀璨星辰，照亮中华民族复兴之路，也映照出某些政客煽动对立、谋取私利的狭隘。真正的伟大，永远诞生于服务人民的赤子之心中，绽放于造福人类的历史长卷里。\n"
     ]
    }
   ],
   "source": [
    "# 生成文案\n",
    "textconfig = TextConfig(message_system_text_generation, message_user_text_generation)\n",
    "text = one_round_chat(textconfig.message_system, textconfig.message_user, textconfig.max_tokens,\n",
    "               textconfig.temperature, textconfig.frequency_penalty, textconfig.max_retries)\n",
    "text = text_strip(text)\n",
    "print(text)"
   ]
  },
  {
   "cell_type": "code",
   "execution_count": 4,
   "metadata": {},
   "outputs": [
    {
     "name": "stdout",
     "output_type": "stream",
     "text": [
      "SynthesisStarted event\n",
      "SynthesisCompleted event:\n",
      "\tAudioData: 4505518 bytes\n",
      "\tAudioDuration: 0:02:20.700000\n",
      "audio saved to: output/美国人民不愿意再支持特朗普的胡闹政策/美国人民不愿意再支持特朗普的胡闹政策.wav\n"
     ]
    }
   ],
   "source": [
    "# Synthesize the SSML\n",
    "ttsconfig = TTSConfig(tts_voice_name, text, audio_path)\n",
    "\n",
    "# Text to speech \n",
    "word_boundary_list = text_to_speech(ttsconfig.ssml, audio_path)\n",
    "sentence_list = to_separated_sentence(word_boundary_list, audio_path)\n",
    "subtitle_list = to_subtitle(word_boundary_list, audio_path)"
   ]
  },
  {
   "cell_type": "code",
   "execution_count": 5,
   "metadata": {},
   "outputs": [
    {
     "name": "stdout",
     "output_type": "stream",
     "text": [
      "1 MAGA\n",
      "2 silent\n",
      "3 poll\n",
      "4 division\n",
      "5 wavering\n"
     ]
    }
   ],
   "source": [
    "clip_list = clip_match(sentence_list, src_folder)"
   ]
  },
  {
   "cell_type": "code",
   "execution_count": null,
   "metadata": {},
   "outputs": [],
   "source": []
  }
 ],
 "metadata": {
  "kernelspec": {
   "display_name": "video",
   "language": "python",
   "name": "python3"
  },
  "language_info": {
   "codemirror_mode": {
    "name": "ipython",
    "version": 3
   },
   "file_extension": ".py",
   "mimetype": "text/x-python",
   "name": "python",
   "nbconvert_exporter": "python",
   "pygments_lexer": "ipython3",
   "version": "3.11.3"
  }
 },
 "nbformat": 4,
 "nbformat_minor": 2
}
