{
 "cells": [
  {
   "cell_type": "code",
   "execution_count": 1,
   "metadata": {},
   "outputs": [],
   "source": [
    "import os\n",
    "from config import *\n",
    "from utils.text import *\n",
    "from utils.tts import *\n",
    "from utils.clipmatch import *"
   ]
  },
  {
   "cell_type": "code",
   "execution_count": 2,
   "metadata": {},
   "outputs": [],
   "source": [
    "# 创建路径变量\n",
    "theme = \"美国人民不愿意再支持特朗普的胡闹政策\"\n",
    "message_user_text_generation = message_user_text_generation_prompt + theme\n",
    "output_folder = os.path.join(\"output\", theme)\n",
    "src_folder = os.path.join(output_folder, \"src\")\n",
    "audio_path = os.path.join(output_folder, theme + \".wav\")\n",
    "video_path = os.path.join(output_folder, theme + \".mp4\")\n",
    "if not os.path.exists(output_folder):\n",
    "    os.makedirs(output_folder)\n",
    "if not os.path.exists(src_folder):\n",
    "    os.makedirs(src_folder)"
   ]
  },
  {
   "cell_type": "code",
   "execution_count": 3,
   "metadata": {},
   "outputs": [
    {
     "name": "stdout",
     "output_type": "stream",
     "text": [
      "你知道吗？当78%的美国年轻人认为国家正走向错误方向时，这个超级大国正在经历怎样的信仰崩塌？  在佛罗里达州坦帕市的退伍军人医院里，失去右腿的海军陆战队员詹姆斯攥着账单苦笑。他曾坚信让美国再次伟大的承诺，如今却因特朗普政府削减退役军人医保而被迫变卖勋章。三百公里外，得克萨斯农场主玛莎看着干裂的土地发呆——她支持的贸易战政策，最终让自家大豆价格暴跌40%。这些荒诞现实像多米诺骨牌般蔓延：从华尔街精英悄悄转移资产，到中部教师举着停止仇恨的标语游行，曾经狂热的MAGA红色棒球帽，正在车库角落积满灰尘。  转折发生在2023年寒冬。当特朗普在爱荷华州集会高喊我是你们的复仇时，台下一位白发老人突然打断演讲：不，我们需要的是治愈！视频在TikTok获得870万次转发，这个瞬间像照妖镜，映照出被民粹主义灼伤的美国灵魂。皮尤研究中心最新数据显示，认为政治家应优先团结国家的民众比例三年间暴涨21%，连深红州的教堂都开始悬挂爱你的邻居的霓虹灯牌。  这何尝不是对全球民粹浪潮的警醒？当政治表演沦为流量狂欢，当极端言论收割短期利益，最终被反噬的永远是普通人。法国哲学家托克维尔在《论美国的民主》中预言的多数人暴政，正以新形态在社交媒体时代复活。但历史告诉我们：任何背离人民真实需求的闹剧，终将在觉醒的阳光下现出原形。  回望太平洋彼岸，从林则徐虎门销烟的浩然正气，到钱学森冲破阻挠归国的赤子之心；从邓稼先埋名戈壁的惊天一爆，到袁隆平稻田里的金色梦想。这些照亮民族星空的先行者，从未将个人意志凌驾于人民利益之上。他们用生命诠释的真理如此简单又深邃：真正的伟大，永远生长在服务人民的土壤里。此刻纽约时代广场的巨屏仍在播放竞选广告，但穿越喧嚣的电子噪音，我们仿佛听见林肯纪念堂墙壁上的铭文在风中回荡——民有、民治、民享的政府不会从地球上消失。\n"
     ]
    }
   ],
   "source": [
    "# 生成文案\n",
    "textconfig = TextConfig(message_system_text_generation, message_user_text_generation)\n",
    "text = one_round_chat(textconfig.message_system, textconfig.message_user, textconfig.max_tokens,\n",
    "               textconfig.temperature, textconfig.frequency_penalty, textconfig.max_retries)\n",
    "text = text_strip(text)\n",
    "print(text)"
   ]
  },
  {
   "cell_type": "code",
   "execution_count": 4,
   "metadata": {},
   "outputs": [
    {
     "name": "stdout",
     "output_type": "stream",
     "text": [
      "SynthesisStarted event\n",
      "SynthesisCompleted event:\n",
      "\tAudioData: 4771630 bytes\n",
      "\tAudioDuration: 0:02:29.012000\n",
      "audio saved to: output/美国人民不愿意再支持特朗普的胡闹政策/美国人民不愿意再支持特朗普的胡闹政策.wav\n"
     ]
    }
   ],
   "source": [
    "# Synthesize the SSML\n",
    "ttsconfig = TTSConfig(tts_voice_name, text, audio_path)\n",
    "\n",
    "# Text to speech \n",
    "word_boundary_list = text_to_speech(ttsconfig.ssml, audio_path)\n",
    "sentence_list = to_separated_sentence(word_boundary_list, audio_path)\n",
    "subtitle_list = to_subtitle(word_boundary_list, audio_path)"
   ]
  },
  {
   "cell_type": "code",
   "execution_count": 5,
   "metadata": {},
   "outputs": [
    {
     "name": "stderr",
     "output_type": "stream",
     "text": [
      "Building prefix dict from the default dictionary ...\n",
      "Loading model from cache /var/folders/24/9v0bz1wj3gn6dl2wvf0dkl7w0000gn/T/jieba.cache\n"
     ]
    },
    {
     "name": "stdout",
     "output_type": "stream",
     "text": [
      "0 :\n"
     ]
    },
    {
     "name": "stderr",
     "output_type": "stream",
     "text": [
      "Loading model cost 0.432 seconds.\n",
      "Prefix dict has been built successfully.\n"
     ]
    },
    {
     "name": "stdout",
     "output_type": "stream",
     "text": [
      "78% 78%\n",
      "1 :\n",
      "坦帕 Tampa\n",
      "duration: 6 file_type: video/mp4 width: 640 height: 360 link https://videos.pexels.com/video-files/30567728/13090470_640_360_30fps.mp4\n"
     ]
    },
    {
     "name": "stderr",
     "output_type": "stream",
     "text": [
      "1.mp4: 100%|██████████| 1.58M/1.58M [00:01<00:00, 1.41MB/s]\n"
     ]
    },
    {
     "name": "stdout",
     "output_type": "stream",
     "text": [
      "视频下载完成：output/美国人民不愿意再支持特朗普的胡闹政策/src/1.mp4\n",
      "2 :\n",
      "账单 bill\n",
      "duration: 14 file_type: video/mp4 width: 960 height: 506 link https://videos.pexels.com/video-files/3943965/3943965-sd_960_506_25fps.mp4\n"
     ]
    },
    {
     "name": "stderr",
     "output_type": "stream",
     "text": [
      "2.mp4: 100%|██████████| 1.01M/1.01M [00:00<00:00, 4.48MB/s]\n"
     ]
    },
    {
     "name": "stdout",
     "output_type": "stream",
     "text": [
      "视频下载完成：output/美国人民不愿意再支持特朗普的胡闹政策/src/2.mp4\n",
      "3 :\n",
      "坚信 firmly believe\n",
      "duration: 17 file_type: video/mp4 width: 360 height: 640 link https://videos.pexels.com/video-files/5199861/5199861-sd_360_640_25fps.mp4\n"
     ]
    },
    {
     "name": "stderr",
     "output_type": "stream",
     "text": [
      "3.mp4: 100%|██████████| 594k/594k [00:00<00:00, 1.10MB/s]\n"
     ]
    },
    {
     "name": "stdout",
     "output_type": "stream",
     "text": [
      "视频下载完成：output/美国人民不愿意再支持特朗普的胡闹政策/src/3.mp4\n",
      "4 :\n",
      "特朗普 Trump\n",
      "duration: 10 file_type: video/mp4 width: 1280 height: 720 link https://videos.pexels.com/video-files/2801200/2801200-hd_1280_720_30fps.mp4\n"
     ]
    },
    {
     "name": "stderr",
     "output_type": "stream",
     "text": [
      "4.mp4: 100%|██████████| 3.32M/3.32M [00:02<00:00, 1.37MB/s]\n"
     ]
    },
    {
     "name": "stdout",
     "output_type": "stream",
     "text": [
      "视频下载完成：output/美国人民不愿意再支持特朗普的胡闹政策/src/4.mp4\n",
      "5 :\n",
      "三百公里 Three hundred kilometers\n",
      "duration: 5 file_type: video/mp4 width: 720 height: 1280 link https://videos.pexels.com/video-files/15392798/15392798-hd_720_1280_60fps.mp4\n"
     ]
    },
    {
     "name": "stderr",
     "output_type": "stream",
     "text": [
      "5.mp4: 100%|██████████| 1.23M/1.23M [00:00<00:00, 1.90MB/s]\n"
     ]
    },
    {
     "name": "stdout",
     "output_type": "stream",
     "text": [
      "视频下载完成：output/美国人民不愿意再支持特朗普的胡闹政策/src/5.mp4\n",
      "6 :\n",
      "玛莎 Martha\n",
      "duration: 7 file_type: video/mp4 width: 540 height: 960 link https://videos.pexels.com/video-files/15886823/15886823-sd_540_960_24fps.mp4\n"
     ]
    },
    {
     "name": "stderr",
     "output_type": "stream",
     "text": [
      "6.mp4: 100%|██████████| 485k/485k [00:01<00:00, 395kB/s] \n"
     ]
    },
    {
     "name": "stdout",
     "output_type": "stream",
     "text": [
      "视频下载完成：output/美国人民不愿意再支持特朗普的胡闹政策/src/6.mp4\n",
      "7 :\n",
      "40% 40%\n",
      "duration: 14 file_type: video/mp4 width: 1920 height: 1080 link https://videos.pexels.com/video-files/7570616/7570616-hd_1920_1080_25fps.mp4\n"
     ]
    },
    {
     "name": "stderr",
     "output_type": "stream",
     "text": [
      "7.mp4: 100%|██████████| 3.14M/3.14M [00:02<00:00, 1.13MB/s]\n"
     ]
    },
    {
     "name": "stdout",
     "output_type": "stream",
     "text": [
      "视频下载完成：output/美国人民不愿意再支持特朗普的胡闹政策/src/7.mp4\n",
      "8 :\n",
      "多米诺骨牌 Domino\n",
      "duration: 20 file_type: video/mp4 width: 960 height: 540 link https://videos.pexels.com/video-files/1793414/1793414-sd_960_540_30fps.mp4\n"
     ]
    },
    {
     "name": "stderr",
     "output_type": "stream",
     "text": [
      "8.mp4: 100%|██████████| 1.52M/1.52M [00:01<00:00, 1.24MB/s]\n"
     ]
    },
    {
     "name": "stdout",
     "output_type": "stream",
     "text": [
      "视频下载完成：output/美国人民不愿意再支持特朗普的胡闹政策/src/8.mp4\n",
      "9 :\n",
      "标语 slogan\n",
      "duration: 15 file_type: video/mp4 width: 640 height: 360 link https://videos.pexels.com/video-files/31723402/13515845_640_360_25fps.mp4\n"
     ]
    },
    {
     "name": "stderr",
     "output_type": "stream",
     "text": [
      "9.mp4: 100%|██████████| 1.37M/1.37M [00:00<00:00, 1.50MB/s]\n"
     ]
    },
    {
     "name": "stdout",
     "output_type": "stream",
     "text": [
      "视频下载完成：output/美国人民不愿意再支持特朗普的胡闹政策/src/9.mp4\n",
      "10 :\n",
      "MAGA MAGA\n",
      "duration: 58 file_type: video/mp4 width: 1280 height: 720 link https://videos.pexels.com/video-files/8611517/8611517-hd_1280_720_30fps.mp4\n"
     ]
    },
    {
     "name": "stderr",
     "output_type": "stream",
     "text": [
      "10.mp4: 100%|██████████| 17.4M/17.4M [00:15<00:00, 1.16MB/s]\n"
     ]
    },
    {
     "name": "stdout",
     "output_type": "stream",
     "text": [
      "视频下载完成：output/美国人民不愿意再支持特朗普的胡闹政策/src/10.mp4\n",
      "11 :\n",
      "积满灰尘 Accumulated dust\n",
      "duration: 120 file_type: video/mp4 width: 640 height: 360 link https://videos.pexels.com/video-files/31765170/13533349_640_360_30fps.mp4\n"
     ]
    },
    {
     "name": "stderr",
     "output_type": "stream",
     "text": [
      "11.mp4: 100%|██████████| 55.2M/55.2M [00:48<00:00, 1.13MB/s]\n"
     ]
    },
    {
     "name": "stdout",
     "output_type": "stream",
     "text": [
      "视频下载完成：output/美国人民不愿意再支持特朗普的胡闹政策/src/11.mp4\n",
      "12 :\n",
      "2023 2023\n",
      "duration: 7 file_type: video/mp4 width: 3840 height: 2160 link https://videos.pexels.com/video-files/2750095/2750095-uhd_3840_2160_24fps.mp4\n"
     ]
    },
    {
     "name": "stderr",
     "output_type": "stream",
     "text": [
      "12.mp4: 100%|██████████| 18.9M/18.9M [00:16<00:00, 1.12MB/s]\n"
     ]
    },
    {
     "name": "stdout",
     "output_type": "stream",
     "text": [
      "视频下载完成：output/美国人民不愿意再支持特朗普的胡闹政策/src/12.mp4\n",
      "13 :\n",
      "特朗普 Trump\n",
      "duration: 10 file_type: video/mp4 width: 1280 height: 720 link https://videos.pexels.com/video-files/2801200/2801200-hd_1280_720_30fps.mp4\n"
     ]
    },
    {
     "name": "stderr",
     "output_type": "stream",
     "text": [
      "13.mp4: 100%|██████████| 3.32M/3.32M [00:02<00:00, 1.12MB/s]\n"
     ]
    },
    {
     "name": "stdout",
     "output_type": "stream",
     "text": [
      "视频下载完成：output/美国人民不愿意再支持特朗普的胡闹政策/src/13.mp4\n",
      "14 :\n",
      "白发 White hair\n",
      "duration: 16 file_type: video/mp4 width: 640 height: 360 link https://videos.pexels.com/video-files/8818531/8818531-sd_640_360_25fps.mp4\n"
     ]
    },
    {
     "name": "stderr",
     "output_type": "stream",
     "text": [
      "14.mp4: 100%|██████████| 680k/680k [00:00<00:00, 1.68MB/s]\n"
     ]
    },
    {
     "name": "stdout",
     "output_type": "stream",
     "text": [
      "视频下载完成：output/美国人民不愿意再支持特朗普的胡闹政策/src/14.mp4\n",
      "15 :\n",
      "TikTok TikTok\n",
      "duration: 22 file_type: video/mp4 width: 1080 height: 1920 link https://videos.pexels.com/video-files/4434242/4434242-hd_1080_1920_24fps.mp4\n"
     ]
    },
    {
     "name": "stderr",
     "output_type": "stream",
     "text": [
      "15.mp4: 100%|██████████| 15.3M/15.3M [00:12<00:00, 1.23MB/s]\n"
     ]
    },
    {
     "name": "stdout",
     "output_type": "stream",
     "text": [
      "视频下载完成：output/美国人民不愿意再支持特朗普的胡闹政策/src/15.mp4\n",
      "16 :\n",
      "照妖镜 Demonic mirror\n",
      "duration: 62 file_type: video/mp4 width: 360 height: 640 link https://videos.pexels.com/video-files/31732982/13520440_360_640_30fps.mp4\n"
     ]
    },
    {
     "name": "stderr",
     "output_type": "stream",
     "text": [
      "16.mp4: 100%|██████████| 2.06M/2.06M [00:01<00:00, 1.48MB/s]\n"
     ]
    },
    {
     "name": "stdout",
     "output_type": "stream",
     "text": [
      "视频下载完成：output/美国人民不愿意再支持特朗普的胡闹政策/src/16.mp4\n",
      "17 :\n",
      "民粹主义 Populism\n",
      "duration: 22 file_type: video/mp4 width: 640 height: 360 link https://videos.pexels.com/video-files/31738550/13522920_640_360_30fps.mp4\n"
     ]
    },
    {
     "name": "stderr",
     "output_type": "stream",
     "text": [
      "17.mp4: 100%|██████████| 2.87M/2.87M [00:02<00:00, 1.15MB/s]\n"
     ]
    },
    {
     "name": "stdout",
     "output_type": "stream",
     "text": [
      "视频下载完成：output/美国人民不愿意再支持特朗普的胡闹政策/src/17.mp4\n",
      "18 :\n",
      "最新 up to date\n",
      "duration: 14 file_type: video/mp4 width: 640 height: 360 link https://videos.pexels.com/video-files/31639720/13480041_640_360_60fps.mp4\n"
     ]
    },
    {
     "name": "stderr",
     "output_type": "stream",
     "text": [
      "18.mp4: 100%|██████████| 2.04M/2.04M [00:01<00:00, 1.36MB/s]\n"
     ]
    },
    {
     "name": "stdout",
     "output_type": "stream",
     "text": [
      "视频下载完成：output/美国人民不愿意再支持特朗普的胡闹政策/src/18.mp4\n",
      "19 :\n",
      "21% twenty one%\n",
      "duration: 24 file_type: video/mp4 width: 540 height: 960 link https://videos.pexels.com/video-files/7608625/7608625-sd_540_960_25fps.mp4\n"
     ]
    },
    {
     "name": "stderr",
     "output_type": "stream",
     "text": [
      "19.mp4: 100%|██████████| 2.51M/2.51M [00:01<00:00, 1.38MB/s]\n"
     ]
    },
    {
     "name": "stdout",
     "output_type": "stream",
     "text": [
      "视频下载完成：output/美国人民不愿意再支持特朗普的胡闹政策/src/19.mp4\n",
      "20 :\n",
      "深红 Crimson red\n",
      "duration: 33 file_type: video/mp4 width: 720 height: 1366 link https://videos.pexels.com/video-files/3943415/3943415-hd_720_1366_50fps.mp4\n"
     ]
    },
    {
     "name": "stderr",
     "output_type": "stream",
     "text": [
      "20.mp4: 100%|██████████| 6.09M/6.09M [00:05<00:00, 1.11MB/s]\n"
     ]
    },
    {
     "name": "stdout",
     "output_type": "stream",
     "text": [
      "视频下载完成：output/美国人民不愿意再支持特朗普的胡闹政策/src/20.mp4\n",
      "21 :\n",
      "民粹 Popularity\n",
      "duration: 41 file_type: video/mp4 width: 640 height: 360 link https://videos.pexels.com/video-files/27758126/12218988_640_360_30fps.mp4\n"
     ]
    },
    {
     "name": "stderr",
     "output_type": "stream",
     "text": [
      "21.mp4: 100%|██████████| 5.70M/5.70M [00:05<00:00, 1.07MB/s]\n"
     ]
    },
    {
     "name": "stdout",
     "output_type": "stream",
     "text": [
      "视频下载完成：output/美国人民不愿意再支持特朗普的胡闹政策/src/21.mp4\n",
      "22 :\n",
      "收割 Harvest\n",
      "duration: 47 file_type: video/mp4 width: 1280 height: 720 link https://videos.pexels.com/video-files/1649831/1649831-hd_1280_720_30fps.mp4\n"
     ]
    },
    {
     "name": "stderr",
     "output_type": "stream",
     "text": [
      "22.mp4: 100%|██████████| 16.3M/16.3M [00:14<00:00, 1.14MB/s]\n"
     ]
    },
    {
     "name": "stdout",
     "output_type": "stream",
     "text": [
      "视频下载完成：output/美国人民不愿意再支持特朗普的胡闹政策/src/22.mp4\n",
      "23 :\n",
      "反噬 Backfire\n",
      "24 :\n",
      "克维尔 Kville\n",
      "25 :\n",
      "新形态 New form\n",
      "duration: 19 file_type: video/mp4 width: 960 height: 540 link https://videos.pexels.com/video-files/7820510/7820510-sd_960_540_25fps.mp4\n"
     ]
    },
    {
     "name": "stderr",
     "output_type": "stream",
     "text": [
      "25.mp4: 100%|██████████| 1.99M/1.99M [00:02<00:00, 826kB/s] \n"
     ]
    },
    {
     "name": "stdout",
     "output_type": "stream",
     "text": [
      "视频下载完成：output/美国人民不愿意再支持特朗普的胡闹政策/src/25.mp4\n",
      "26 :\n",
      "闹剧 farce\n",
      "duration: 9 file_type: video/mp4 width: 426 height: 240 link https://videos.pexels.com/video-files/3327253/3327253-sd_426_240_24fps.mp4\n"
     ]
    },
    {
     "name": "stderr",
     "output_type": "stream",
     "text": [
      "26.mp4: 100%|██████████| 392k/392k [00:00<00:00, 1.10MB/s]\n"
     ]
    },
    {
     "name": "stdout",
     "output_type": "stream",
     "text": [
      "视频下载完成：output/美国人民不愿意再支持特朗普的胡闹政策/src/26.mp4\n",
      "27 :\n",
      "现出原形 Revealed the original form\n",
      "duration: 20 file_type: video/mp4 width: 2160 height: 4096 link https://videos.pexels.com/video-files/8347367/8347367-uhd_2160_4096_25fps.mp4\n"
     ]
    },
    {
     "name": "stderr",
     "output_type": "stream",
     "text": [
      "27.mp4: 100%|██████████| 55.1M/55.1M [00:59<00:00, 929kB/s] \n"
     ]
    },
    {
     "name": "stdout",
     "output_type": "stream",
     "text": [
      "视频下载完成：output/美国人民不愿意再支持特朗普的胡闹政策/src/27.mp4\n",
      "28 :\n",
      "回望 Looking back\n",
      "duration: 50 file_type: video/mp4 width: 1920 height: 1080 link https://videos.pexels.com/video-files/4761878/4761878-hd_1920_1080_24fps.mp4\n"
     ]
    },
    {
     "name": "stderr",
     "output_type": "stream",
     "text": [
      "28.mp4: 100%|██████████| 27.3M/27.3M [00:22<00:00, 1.19MB/s]\n"
     ]
    },
    {
     "name": "stdout",
     "output_type": "stream",
     "text": [
      "视频下载完成：output/美国人民不愿意再支持特朗普的胡闹政策/src/28.mp4\n",
      "29 :\n",
      "虎门销烟 Humen smoke removal\n",
      "duration: 16 file_type: video/mp4 width: 1920 height: 1080 link https://videos.pexels.com/video-files/3769032/3769032-hd_1920_1080_25fps.mp4\n"
     ]
    },
    {
     "name": "stderr",
     "output_type": "stream",
     "text": [
      "29.mp4: 100%|██████████| 8.79M/8.79M [00:07<00:00, 1.23MB/s]\n"
     ]
    },
    {
     "name": "stdout",
     "output_type": "stream",
     "text": [
      "视频下载完成：output/美国人民不愿意再支持特朗普的胡闹政策/src/29.mp4\n",
      "30 :\n",
      "埋名 Bury the name\n",
      "duration: 7 file_type: video/mp4 width: 426 height: 240 link https://videos.pexels.com/video-files/8060835/8060835-sd_426_240_25fps.mp4\n"
     ]
    },
    {
     "name": "stderr",
     "output_type": "stream",
     "text": [
      "30.mp4: 100%|██████████| 217k/217k [00:00<00:00, 3.21MB/s]\n"
     ]
    },
    {
     "name": "stdout",
     "output_type": "stream",
     "text": [
      "视频下载完成：output/美国人民不愿意再支持特朗普的胡闹政策/src/30.mp4\n",
      "31 :\n",
      "袁隆平 Yuan Longping\n",
      "duration: 141 file_type: video/mp4 width: 640 height: 360 link https://videos.pexels.com/video-files/14428424/14428424-sd_640_360_30fps.mp4\n"
     ]
    },
    {
     "name": "stderr",
     "output_type": "stream",
     "text": [
      "31.mp4: 100%|██████████| 13.6M/13.6M [00:11<00:00, 1.22MB/s]\n"
     ]
    },
    {
     "name": "stdout",
     "output_type": "stream",
     "text": [
      "视频下载完成：output/美国人民不愿意再支持特朗普的胡闹政策/src/31.mp4\n",
      "32 :\n",
      "先行者 forerunner\n",
      "33 :\n",
      "凌驾于 Overriding\n",
      "duration: 9 file_type: video/mp4 width: 640 height: 360 link https://videos.pexels.com/video-files/4957783/4957783-sd_640_360_25fps.mp4\n"
     ]
    },
    {
     "name": "stderr",
     "output_type": "stream",
     "text": [
      "33.mp4: 100%|██████████| 705k/705k [00:00<00:00, 1.40MB/s]\n"
     ]
    },
    {
     "name": "stdout",
     "output_type": "stream",
     "text": [
      "视频下载完成：output/美国人民不愿意再支持特朗普的胡闹政策/src/33.mp4\n",
      "34 :\n",
      "诠释 Interpretation\n",
      "duration: 7 file_type: video/mp4 width: 1440 height: 2560 link https://videos.pexels.com/video-files/3761687/3761687-uhd_1440_2560_25fps.mp4\n"
     ]
    },
    {
     "name": "stderr",
     "output_type": "stream",
     "text": [
      "34.mp4: 100%|██████████| 9.85M/9.85M [00:08<00:00, 1.20MB/s]\n"
     ]
    },
    {
     "name": "stdout",
     "output_type": "stream",
     "text": [
      "视频下载完成：output/美国人民不愿意再支持特朗普的胡闹政策/src/34.mp4\n",
      "35 :\n",
      "土壤 soil\n",
      "duration: 22 file_type: video/mp4 width: 954 height: 540 link https://videos.pexels.com/video-files/3568957/3568957-sd_954_540_30fps.mp4\n"
     ]
    },
    {
     "name": "stderr",
     "output_type": "stream",
     "text": [
      "35.mp4: 100%|██████████| 5.15M/5.15M [00:03<00:00, 1.29MB/s]\n"
     ]
    },
    {
     "name": "stdout",
     "output_type": "stream",
     "text": [
      "视频下载完成：output/美国人民不愿意再支持特朗普的胡闹政策/src/35.mp4\n",
      "36 :\n",
      "纽约时代广场 Times Square, New York\n",
      "duration: 37 file_type: video/mp4 width: 1440 height: 2560 link https://videos.pexels.com/video-files/19933502/19933502-uhd_1440_2560_60fps.mp4\n"
     ]
    },
    {
     "name": "stderr",
     "output_type": "stream",
     "text": [
      "36.mp4: 100%|██████████| 63.7M/63.7M [00:53<00:00, 1.18MB/s]\n"
     ]
    },
    {
     "name": "stdout",
     "output_type": "stream",
     "text": [
      "视频下载完成：output/美国人民不愿意再支持特朗普的胡闹政策/src/36.mp4\n",
      "37 :\n",
      "喧嚣 Noisy\n",
      "duration: 38 file_type: video/mp4 width: 640 height: 360 link https://videos.pexels.com/video-files/31661048/13489661_640_360_30fps.mp4\n"
     ]
    },
    {
     "name": "stderr",
     "output_type": "stream",
     "text": [
      "37.mp4: 100%|██████████| 6.48M/6.48M [00:05<00:00, 1.19MB/s]\n"
     ]
    },
    {
     "name": "stdout",
     "output_type": "stream",
     "text": [
      "视频下载完成：output/美国人民不愿意再支持特朗普的胡闹政策/src/37.mp4\n",
      "38 :\n",
      "民享 People's enjoyment\n",
      "duration: 10 file_type: video/mp4 width: 360 height: 640 link https://videos.pexels.com/video-files/31752555/13528310_360_640_30fps.mp4\n"
     ]
    },
    {
     "name": "stderr",
     "output_type": "stream",
     "text": [
      "38.mp4: 100%|██████████| 708k/708k [00:00<00:00, 1.16MB/s]"
     ]
    },
    {
     "name": "stdout",
     "output_type": "stream",
     "text": [
      "视频下载完成：output/美国人民不愿意再支持特朗普的胡闹政策/src/38.mp4\n"
     ]
    },
    {
     "name": "stderr",
     "output_type": "stream",
     "text": [
      "\n"
     ]
    }
   ],
   "source": [
    "clip_list = clip_match(sentence_list, src_folder)"
   ]
  },
  {
   "cell_type": "code",
   "execution_count": null,
   "metadata": {},
   "outputs": [],
   "source": [
    "def video_generation"
   ]
  }
 ],
 "metadata": {
  "kernelspec": {
   "display_name": "video",
   "language": "python",
   "name": "python3"
  },
  "language_info": {
   "codemirror_mode": {
    "name": "ipython",
    "version": 3
   },
   "file_extension": ".py",
   "mimetype": "text/x-python",
   "name": "python",
   "nbconvert_exporter": "python",
   "pygments_lexer": "ipython3",
   "version": "3.11.3"
  }
 },
 "nbformat": 4,
 "nbformat_minor": 2
}
