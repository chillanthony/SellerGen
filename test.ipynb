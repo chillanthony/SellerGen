{
 "cells": [
  {
   "cell_type": "code",
   "execution_count": 1,
   "metadata": {},
   "outputs": [],
   "source": [
    "import os\n",
    "from config import *\n",
    "from utils.text import *\n",
    "from utils.tts import *"
   ]
  },
  {
   "cell_type": "code",
   "execution_count": 2,
   "metadata": {},
   "outputs": [],
   "source": [
    "# 创建路径变量\n",
    "theme = \"美国人民不愿意再支持特朗普的胡闹政策\"\n",
    "message_user_text_generation = message_user_text_generation_prompt + theme\n",
    "output_folder = os.path.join(\"output\", theme)\n",
    "src_folder = os.path.join(output_folder, \"src\")\n",
    "audio_path = os.path.join(output_folder, theme + \".wav\")\n",
    "video_path = os.path.join(output_folder, theme + \".mp4\")\n",
    "if not os.path.exists(output_folder):\n",
    "    os.makedirs(output_folder)\n",
    "if not os.path.exists(src_folder):\n",
    "    os.makedirs(src_folder)"
   ]
  },
  {
   "cell_type": "code",
   "execution_count": 3,
   "metadata": {},
   "outputs": [
    {
     "name": "stdout",
     "output_type": "stream",
     "text": [
      "你知道吗？当美国民众开始厌倦一场政治闹剧时，背后究竟藏着怎样的集体觉醒？  在佛罗里达州的一个小镇上，退休教师玛莎·威尔逊曾是特朗普的坚定支持者。2016年，她相信这位商人总统会抽干华盛顿的沼泽，但四年后，她发现沼泽不仅没被抽干，反而更加浑浊。疫情中失去两位亲友的玛莎，看着白宫不断推翻科学建议的混乱防疫政策，第一次在中期选举投下了反对票。像她这样的反水选民在全美已超过300万——这个曾经被忽视的群体，正在用选票书写着美国政治史上最戏剧性的转折。  转折发生在2022年1月6日国会山暴乱周年纪念日。当特朗普在亚利桑那州集会现场，再次表演他标志性的选举舞弊脱口秀时，台下出现了罕见的嘘声。曾以狂热著称的MAGA粉丝群中，有人开始低头刷手机——直播画面里，佐治亚州农民正用拖拉机拼出够了的巨型标语。这种沉默的反抗像野火般蔓延，最新民调显示，62%的独立选民认为美国需要政治疗伤而非持续撕裂。就连福克斯新闻的黄金时段，都开始出现是时候翻篇了的标题。  当政治表演沦为重复播放的闹剧，民众的觉醒往往比想象中更迅速。从欧洲民粹主义退潮到拉美左翼回摆，21世纪的政治史不断证明：任何背离民生的表演，终将被人民亲手拆台。那些被煽动的情绪、被制造的仇恨，最终都会在面包价格和医保账单前现出原形。或许美国民众正在领悟，真正的让美国再次伟大，从来不是某个人的独角戏。  回望太平洋彼岸，从孙中山天下为公的呐喊，到钱学森放弃优渥毅然归国的星火，再到袁隆平蹲在稻田里的背影——中华民族的复兴之路，始终由无数将人民举过头顶的脊梁共同铺就。他们不需要夸张的表情包和热搜话题，只把丰碑刻在稻穗的饱满里、写在太空站的轨迹中、融进脱贫户的笑纹间。这才是经得起历史检验的伟大，是穿越时空仍能让人热泪盈眶的力量。当某些国家还在政治秀场里打转时，东方的土地上，人民史诗正在由人民自己书写。\n"
     ]
    }
   ],
   "source": [
    "# 生成文案\n",
    "textconfig = TextConfig(message_system_text_generation, message_user_text_generation)\n",
    "text = one_round_chat(textconfig.message_system, textconfig.message_user, textconfig.max_tokens,\n",
    "               textconfig.temperature, textconfig.frequency_penalty, textconfig.max_retries)\n",
    "text = text_strip(text)\n",
    "print(text)"
   ]
  },
  {
   "cell_type": "code",
   "execution_count": 4,
   "metadata": {},
   "outputs": [
    {
     "name": "stdout",
     "output_type": "stream",
     "text": [
      "SSML to synthesize: \n",
      "\n",
      "        <speak version='1.0' xml:lang='zh-CN' xmlns='http://www.w3.org/2001/10/synthesis' xmlns:mstts='http://www.w3.org/2001/mstts'>\n",
      "        <voice name='zh-CN-YunxiNeural'>\n",
      "            你知道吗？当美国民众开始厌倦一场政治闹剧时，背后究竟藏着怎样的集体觉醒？  在佛罗里达州的一个小镇上，退休教师玛莎·威尔逊曾是特朗普的坚定支持者。2016年，她相信这位商人总统会抽干华盛顿的沼泽，但四年后，她发现沼泽不仅没被抽干，反而更加浑浊。疫情中失去两位亲友的玛莎，看着白宫不断推翻科学建议的混乱防疫政策，第一次在中期选举投下了反对票。像她这样的反水选民在全美已超过300万——这个曾经被忽视的群体，正在用选票书写着美国政治史上最戏剧性的转折。  转折发生在2022年1月6日国会山暴乱周年纪念日。当特朗普在亚利桑那州集会现场，再次表演他标志性的选举舞弊脱口秀时，台下出现了罕见的嘘声。曾以狂热著称的MAGA粉丝群中，有人开始低头刷手机——直播画面里，佐治亚州农民正用拖拉机拼出够了的巨型标语。这种沉默的反抗像野火般蔓延，最新民调显示，62%的独立选民认为美国需要政治疗伤而非持续撕裂。就连福克斯新闻的黄金时段，都开始出现是时候翻篇了的标题。  当政治表演沦为重复播放的闹剧，民众的觉醒往往比想象中更迅速。从欧洲民粹主义退潮到拉美左翼回摆，21世纪的政治史不断证明：任何背离民生的表演，终将被人民亲手拆台。那些被煽动的情绪、被制造的仇恨，最终都会在面包价格和医保账单前现出原形。或许美国民众正在领悟，真正的让美国再次伟大，从来不是某个人的独角戏。  回望太平洋彼岸，从孙中山天下为公的呐喊，到钱学森放弃优渥毅然归国的星火，再到袁隆平蹲在稻田里的背影——中华民族的复兴之路，始终由无数将人民举过头顶的脊梁共同铺就。他们不需要夸张的表情包和热搜话题，只把丰碑刻在稻穗的饱满里、写在太空站的轨迹中、融进脱贫户的笑纹间。这才是经得起历史检验的伟大，是穿越时空仍能让人热泪盈眶的力量。当某些国家还在政治秀场里打转时，东方的土地上，人民史诗正在由人民自己书写。\n",
      "        </voice>\n",
      "        </speak>\n",
      "        \n"
     ]
    }
   ],
   "source": [
    "# Synthesize the SSML\n",
    "ttsconfig = TTSConfig(tts_voice_name, text, audio_path)\n",
    "print(\"SSML to synthesize: \\r\\n{}\".format(ttsconfig.ssml))"
   ]
  },
  {
   "cell_type": "code",
   "execution_count": null,
   "metadata": {},
   "outputs": [
    {
     "name": "stdout",
     "output_type": "stream",
     "text": [
      "SynthesisStarted event\n",
      "SynthesisCompleted event:\n",
      "\tAudioData: 4852270 bytes\n",
      "\tAudioDuration: 0:02:31.537000\n",
      "audio saved to: output/美国人民不愿意再支持特朗普的胡闹政策/美国人民不愿意再支持特朗普的胡闹政策.wav\n"
     ]
    }
   ],
   "source": [
    "word_boundary_list = text_to_speech(ttsconfig.ssml, audio_path)\n",
    "sentence_list = to_separated_sentence(word_boundary_list)\n",
    "subtitle_list = to_subtitle(word_boundary_list)"
   ]
  },
  {
   "cell_type": "code",
   "execution_count": 12,
   "metadata": {},
   "outputs": [
    {
     "name": "stdout",
     "output_type": "stream",
     "text": [
      "1 / 57 : know\n",
      "2 / 57 : drama\n",
      "3 / 57 : awakening\n",
      "4 / 57 : Florida\n",
      "5 / 57 : retired\n",
      "6 / 57 : Trump\n",
      "7 / 57 : 2016\n",
      "8 / 57 : drain\n",
      "9 / 57 : four\n",
      "10 / 57 : swamp\n",
      "11 / 57 : muddier\n",
      "12 / 57 : loss\n",
      "13 / 57 : chaos\n",
      "14 / 57 : opposition\n",
      "15 / 57 : defector\n",
      "16 / 57 : neglected\n",
      "17 / 57 : dramatic\n",
      "18 / 57 : transition\n",
      "19 / 57 : Trump\n",
      "20 / 57 : fraud\n",
      "21 / 57 : boos\n",
      "22 / 57 : fanatic\n",
      "23 / 57 : phone\n",
      "24 / 57 : live\n",
      "25 / 57 : enough\n",
      "26 / 57 : rebellion\n",
      "27 / 57 : poll\n",
      "28 / 57 : healing\n",
      "29 / 57 : prime-time\n",
      "30 / 57 : moveon\n",
      "31 / 57 : farce\n",
      "32 / 57 : awakening\n",
      "33 / 57 : populism\n",
      "34 / 57 : Politics\n",
      "35 / 57 : performance\n",
      "36 / 57 : overthrow\n",
      "37 / 57 : agitated\n",
      "38 / 57 : hatred\n",
      "39 / 57 : reality\n",
      "40 / 57 : realizing\n",
      "41 / 57 : Make\n",
      "42 / 57 : solo\n",
      "43 / 57 : Pacific\n",
      "44 / 57 : justice\n",
      "45 / 57 : patriotism\n",
      "46 / 57 : rice\n",
      "47 / 57 : revival\n",
      "48 / 57 : people\n",
      "49 / 57 : exaggeration\n",
      "50 / 57 : monument\n",
      "51 / 57 : trajectory\n",
      "52 / 57 : smile\n",
      "53 / 57 : history-tested\n",
      "54 / 57 : timeless\n",
      "55 / 57 : politics\n",
      "56 / 57 : eastern\n",
      "57 / 57 : epic\n"
     ]
    },
    {
     "data": {
      "text/plain": [
       "['know',\n",
       " 'drama',\n",
       " 'awakening',\n",
       " 'Florida',\n",
       " 'retired',\n",
       " 'Trump',\n",
       " '2016',\n",
       " 'drain',\n",
       " 'four',\n",
       " 'swamp',\n",
       " 'muddier',\n",
       " 'loss',\n",
       " 'chaos',\n",
       " 'opposition',\n",
       " 'defector',\n",
       " 'neglected',\n",
       " 'dramatic',\n",
       " 'transition',\n",
       " 'Trump',\n",
       " 'fraud',\n",
       " 'boos',\n",
       " 'fanatic',\n",
       " 'phone',\n",
       " 'live',\n",
       " 'enough',\n",
       " 'rebellion',\n",
       " 'poll',\n",
       " 'healing',\n",
       " 'prime-time',\n",
       " 'moveon',\n",
       " 'farce',\n",
       " 'awakening',\n",
       " 'populism',\n",
       " 'Politics',\n",
       " 'performance',\n",
       " 'overthrow',\n",
       " 'agitated',\n",
       " 'hatred',\n",
       " 'reality',\n",
       " 'realizing',\n",
       " 'Make',\n",
       " 'solo',\n",
       " 'Pacific',\n",
       " 'justice',\n",
       " 'patriotism',\n",
       " 'rice',\n",
       " 'revival',\n",
       " 'people',\n",
       " 'exaggeration',\n",
       " 'monument',\n",
       " 'trajectory',\n",
       " 'smile',\n",
       " 'history-tested',\n",
       " 'timeless',\n",
       " 'politics',\n",
       " 'eastern',\n",
       " 'epic']"
      ]
     },
     "execution_count": 12,
     "metadata": {},
     "output_type": "execute_result"
    }
   ],
   "source": [
    "hotword_list = []\n",
    "for i in range(len(sentence_list)):\n",
    "    hotwordconfig = TextConfig(message_system_hotword_prompt, sentence_list[i].text)\n",
    "    hotword = one_round_chat(hotwordconfig.message_system, hotwordconfig.message_user, hotwordconfig.max_tokens,\n",
    "                hotwordconfig.temperature, hotwordconfig.frequency_penalty, hotwordconfig.max_retries)\n",
    "    print(i+1, '/', len(sentence_list), ':', hotword)\n",
    "    hotword_list.append(hotword)\n",
    "hotword_list"
   ]
  },
  {
   "cell_type": "code",
   "execution_count": null,
   "metadata": {},
   "outputs": [],
   "source": []
  }
 ],
 "metadata": {
  "kernelspec": {
   "display_name": "video",
   "language": "python",
   "name": "python3"
  },
  "language_info": {
   "codemirror_mode": {
    "name": "ipython",
    "version": 3
   },
   "file_extension": ".py",
   "mimetype": "text/x-python",
   "name": "python",
   "nbconvert_exporter": "python",
   "pygments_lexer": "ipython3",
   "version": "3.11.3"
  }
 },
 "nbformat": 4,
 "nbformat_minor": 2
}
