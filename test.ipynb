{
 "cells": [
  {
   "cell_type": "code",
   "execution_count": 1,
   "metadata": {},
   "outputs": [],
   "source": [
    "import os\n",
    "from config import *\n",
    "from utils.text import *\n",
    "from utils.tts import *\n",
    "from utils.clipmatch import *"
   ]
  },
  {
   "cell_type": "code",
   "execution_count": 2,
   "metadata": {},
   "outputs": [],
   "source": [
    "# 创建路径变量\n",
    "theme = \"美国人民不愿意再支持特朗普的胡闹政策\"\n",
    "message_user_text_generation = message_user_text_generation_prompt + theme\n",
    "output_folder = os.path.join(\"output\", theme)\n",
    "src_folder = os.path.join(output_folder, \"src\")\n",
    "audio_path = os.path.join(output_folder, theme + \".wav\")\n",
    "video_path = os.path.join(output_folder, theme + \".mp4\")\n",
    "if not os.path.exists(output_folder):\n",
    "    os.makedirs(output_folder)\n",
    "if not os.path.exists(src_folder):\n",
    "    os.makedirs(src_folder)"
   ]
  },
  {
   "cell_type": "code",
   "execution_count": 3,
   "metadata": {},
   "outputs": [
    {
     "name": "stdout",
     "output_type": "stream",
     "text": [
      "你知道吗？当一位总统的支持率跌破历史冰点时，连他最忠实的选民都开始问：我们还要忍受多久？2020年大选后的美国，上演着一出荒诞的政治连续剧。在佛罗里达州的一个小镇，曾经高举让美国再次伟大标语的退休教师玛莎，默默撤下了家门口的特朗普旗帜。她的儿子因拒绝接种疫苗死于Delta变种，而前总统仍在社交媒体宣称新冠只是流感。这种认知撕裂正在红州蔓延——亚利桑那的农场主们发现关税战让自己赔掉三代家业，得克萨斯的石油工人看清所谓工作岗位回流不过是竞选噱头。最讽刺的是，1月6日国会山暴乱视频中，那些高喊为特朗普而战的示威者，如今多数面临20年重刑，而他们效忠的对象正悠闲地在海湖庄园打高尔夫。这种集体觉醒背后，是普通民众用生计交出的昂贵学费。当堪萨斯州的基督徒母亲发现反堕胎法案导致当地妇产医院关闭，当加州华裔工程师因为中国病毒论遭遇暴力袭击，人们终于意识到，那些煽动性言论从来不是政治策略，而是将整个社会推向悬崖的危险游戏。最新民调显示，62%的受访者认为美国正在错误的方向上前进，这个数字在共和党内部也达到了惊人的37%。看看我们的历史长河，从林则徐虎门销烟的浩然正气，到钱学森放弃优渥待遇毅然归国；从邓稼先在荒漠中铸就的两弹丰碑，到袁隆平院士蹲在稻田里的背影。这些民族的脊梁从不靠哗众取宠，他们用沉默的坚守诠释真正的担当。当黄大年教授在病床上仍修改科研报告时，当张桂梅校长拖着病体送女孩们走出大山时，我们看到的不是表演型人格的喧嚣，而是融入血脉的家国情怀。此刻太平洋彼岸的政治闹剧，恰似一面镜子，照见我们脚下这片土地的可贵。百年前，李大钊在《青春》中写道：以青春之我，创建青春之国家。今天，当我们在故宫红墙下漫步，在港珠澳大桥上驰骋，在贵州天眼前仰望星空时，每个中国人都能骄傲地说：这盛世，如您所愿。\n"
     ]
    }
   ],
   "source": [
    "# 生成文案\n",
    "textconfig = TextConfig(message_system_text_generation, message_user_text_generation)\n",
    "text = one_round_chat(textconfig.message_system, textconfig.message_user, textconfig.max_tokens,\n",
    "               textconfig.temperature, textconfig.frequency_penalty, textconfig.max_retries)\n",
    "text = text_strip(text)\n",
    "print(text)"
   ]
  },
  {
   "cell_type": "code",
   "execution_count": 4,
   "metadata": {},
   "outputs": [
    {
     "name": "stdout",
     "output_type": "stream",
     "text": [
      "SynthesisStarted event\n",
      "SynthesisCompleted event:\n",
      "\tAudioData: 4692142 bytes\n",
      "\tAudioDuration: 0:02:26.525000\n",
      "audio saved to: output/美国人民不愿意再支持特朗普的胡闹政策/美国人民不愿意再支持特朗普的胡闹政策.wav\n"
     ]
    }
   ],
   "source": [
    "# Synthesize the SSML\n",
    "ttsconfig = TTSConfig(tts_voice_name, text, audio_path)\n",
    "\n",
    "# Text to speech \n",
    "word_boundary_list = text_to_speech(ttsconfig.ssml, audio_path)\n",
    "sentence_list = to_separated_sentence(word_boundary_list, audio_path)\n",
    "subtitle_list = to_subtitle(word_boundary_list, audio_path)"
   ]
  },
  {
   "cell_type": "code",
   "execution_count": 5,
   "metadata": {},
   "outputs": [
    {
     "name": "stderr",
     "output_type": "stream",
     "text": [
      "Building prefix dict from the default dictionary ...\n",
      "Loading model from cache /var/folders/24/9v0bz1wj3gn6dl2wvf0dkl7w0000gn/T/jieba.cache\n"
     ]
    },
    {
     "name": "stdout",
     "output_type": "stream",
     "text": [
      "0 :\n"
     ]
    },
    {
     "name": "stderr",
     "output_type": "stream",
     "text": [
      "Loading model cost 0.424 seconds.\n",
      "Prefix dict has been built successfully.\n"
     ]
    },
    {
     "name": "stdout",
     "output_type": "stream",
     "text": [
      "支持率 Support rate\n",
      "duration: 10 file_type: video/mp4 width: 1280 height: 720 link https://videos.pexels.com/video-files/6130124/6130124-hd_1280_720_30fps.mp4\n",
      "1 :\n",
      "2020 2020\n",
      "duration: 5 file_type: video/mp4 width: 2048 height: 1080 link https://videos.pexels.com/video-files/3402162/3402162-hd_2048_1080_25fps.mp4\n",
      "2 :\n",
      "连续剧 TV series\n",
      "duration: 23 file_type: video/mp4 width: 1366 height: 720 link https://videos.pexels.com/video-files/4010131/4010131-hd_1366_720_50fps.mp4\n",
      "3 :\n",
      "佛罗里达州 Florida\n",
      "duration: 41 file_type: video/mp4 width: 426 height: 240 link https://videos.pexels.com/video-files/3168117/3168117-sd_426_240_30fps.mp4\n",
      "4 :\n",
      "玛莎 Martha\n",
      "duration: 7 file_type: video/mp4 width: 540 height: 960 link https://videos.pexels.com/video-files/15886823/15886823-sd_540_960_24fps.mp4\n",
      "5 :\n",
      "特朗普 Trump\n",
      "duration: 10 file_type: video/mp4 width: 1280 height: 720 link https://videos.pexels.com/video-files/2801200/2801200-hd_1280_720_30fps.mp4\n",
      "6 :\n",
      "Delta Delta\n",
      "duration: 60 file_type: video/mp4 width: 960 height: 506 link https://videos.pexels.com/video-files/6256777/6256777-sd_960_506_24fps.mp4\n",
      "7 :\n",
      "而前 And before\n",
      "duration: 11 file_type: video/mp4 width: 1280 height: 720 link https://videos.pexels.com/video-files/7986744/7986744-hd_1280_720_25fps.mp4\n",
      "8 :\n",
      "亚利桑那 Arizona\n",
      "duration: 6 file_type: video/mp4 width: 1280 height: 720 link https://videos.pexels.com/video-files/1644693/1644693-hd_1280_720_30fps.mp4\n",
      "9 :\n",
      "得克萨斯 Texas\n",
      "duration: 15 file_type: video/mp4 width: 640 height: 360 link https://videos.pexels.com/video-files/852380/852380-sd_640_360_24fps.mp4\n",
      "10 :\n",
      "讽刺 Satire\n",
      "duration: 15 file_type: video/mp4 width: 1280 height: 720 link https://videos.pexels.com/video-files/18637208/18637208-hd_1280_720_30fps.mp4\n",
      "11 :\n",
      "国会山 Capitol Hill\n",
      "duration: 24 file_type: video/mp4 width: 2560 height: 1440 link https://videos.pexels.com/video-files/4961476/4961476-uhd_2560_1440_30fps.mp4\n",
      "12 :\n",
      "特朗普 Trump\n",
      "duration: 10 file_type: video/mp4 width: 1280 height: 720 link https://videos.pexels.com/video-files/2801200/2801200-hd_1280_720_30fps.mp4\n",
      "13 :\n",
      "20 20\n",
      "duration: 14 file_type: video/mp4 width: 338 height: 640 link https://videos.pexels.com/video-files/3755077/3755077-sd_338_640_25fps.mp4\n",
      "14 :\n",
      "海湖 Haihu\n",
      "15 :\n",
      "觉醒 Awakening\n",
      "duration: 20 file_type: video/mp4 width: 640 height: 360 link https://videos.pexels.com/video-files/31742401/13524626_640_360_30fps.mp4\n",
      "16 :\n",
      "学费 tuition fee\n",
      "duration: 10 file_type: video/mp4 width: 1920 height: 1080 link https://videos.pexels.com/video-files/7735855/7735855-hd_1920_1080_25fps.mp4\n",
      "17 :\n",
      "妇产医院 Obstetrics and Gynecology Hospital\n",
      "duration: 22 file_type: video/mp4 width: 1080 height: 1920 link https://videos.pexels.com/video-files/7088945/7088945-hd_1080_1920_25fps.mp4\n",
      "18 :\n",
      "华裔 Chinese\n",
      "duration: 30 file_type: video/mp4 width: 640 height: 360 link https://videos.pexels.com/video-files/1795797/1795797-sd_640_360_30fps.mp4\n",
      "19 :\n",
      "意识 consciousness\n",
      "duration: 27 file_type: video/mp4 width: 960 height: 540 link https://videos.pexels.com/video-files/3209571/3209571-sd_960_540_25fps.mp4\n",
      "20 :\n",
      "煽动性 Incitement\n",
      "21 :\n",
      "悬崖 cliff\n",
      "duration: 8 file_type: video/mp4 width: 1280 height: 720 link https://videos.pexels.com/video-files/2040075/2040075-hd_1280_720_24fps.mp4\n",
      "22 :\n",
      "民调 Polls\n",
      "duration: 18 file_type: video/mp4 width: 960 height: 540 link https://videos.pexels.com/video-files/7103445/7103445-sd_960_540_25fps.mp4\n",
      "23 :\n",
      "62% 62%\n",
      "duration: 14 file_type: video/mp4 width: 426 height: 240 link https://videos.pexels.com/video-files/6406260/6406260-sd_426_240_30fps.mp4\n",
      "24 :\n",
      "37% 37%\n",
      "duration: 24 file_type: video/mp4 width: 2560 height: 1440 link https://videos.pexels.com/video-files/6536643/6536643-uhd_2560_1440_25fps.mp4\n",
      "25 :\n",
      "历史长河 The long river of history\n",
      "duration: 14 file_type: video/mp4 width: 360 height: 640 link https://videos.pexels.com/video-files/31636451/13478519_360_640_30fps.mp4\n",
      "26 :\n",
      "虎门销烟 Humen smoke removal\n",
      "duration: 16 file_type: video/mp4 width: 1920 height: 1080 link https://videos.pexels.com/video-files/3769032/3769032-hd_1920_1080_25fps.mp4\n",
      "27 :\n",
      "两弹 Two bullets\n",
      "duration: 18 file_type: video/mp4 width: 240 height: 426 link https://videos.pexels.com/video-files/6503215/6503215-sd_240_426_25fps.mp4\n",
      "28 :\n",
      "袁隆平 Yuan Longping\n",
      "duration: 141 file_type: video/mp4 width: 640 height: 360 link https://videos.pexels.com/video-files/14428424/14428424-sd_640_360_30fps.mp4\n",
      "29 :\n",
      "哗众取宠 Sensational\n",
      "duration: 23 file_type: video/mp4 width: 960 height: 540 link https://videos.pexels.com/video-files/14384777/14384777-sd_960_540_24fps.mp4\n",
      "30 :\n",
      "诠释 Interpretation\n",
      "duration: 7 file_type: video/mp4 width: 1440 height: 2560 link https://videos.pexels.com/video-files/3761687/3761687-uhd_1440_2560_25fps.mp4\n",
      "31 :\n",
      "黄大年 Huang Danian\n",
      "duration: 15 file_type: video/mp4 width: 338 height: 640 link https://videos.pexels.com/video-files/5192065/5192065-sd_338_640_25fps.mp4\n",
      "32 :\n",
      "张桂梅 Zhang Guimei\n",
      "33 :\n",
      "喧嚣 Noisy\n",
      "duration: 38 file_type: video/mp4 width: 640 height: 360 link https://videos.pexels.com/video-files/31661048/13489661_640_360_30fps.mp4\n",
      "34 :\n",
      "家国 Country\n",
      "duration: 35 file_type: video/mp4 width: 426 height: 240 link https://videos.pexels.com/video-files/2758322/2758322-sd_426_240_30fps.mp4\n",
      "35 :\n",
      "闹剧 farce\n",
      "duration: 9 file_type: video/mp4 width: 426 height: 240 link https://videos.pexels.com/video-files/3327253/3327253-sd_426_240_24fps.mp4\n",
      "36 :\n",
      "一面镜子 A mirror\n",
      "duration: 31 file_type: video/mp4 width: 640 height: 360 link https://videos.pexels.com/video-files/31754790/13529151_640_360_30fps.mp4\n",
      "37 :\n",
      "照见 See you\n",
      "duration: 9 file_type: video/mp4 width: 1080 height: 1920 link https://videos.pexels.com/video-files/8399319/8399319-hd_1080_1920_25fps.mp4\n",
      "38 :\n",
      "百年 century\n",
      "duration: 16 file_type: video/mp4 width: 1280 height: 720 link https://videos.pexels.com/video-files/3156886/3156886-hd_1280_720_30fps.mp4\n",
      "39 :\n",
      "青春 youth\n",
      "duration: 17 file_type: video/mp4 width: 640 height: 360 link https://videos.pexels.com/video-files/3209298/3209298-sd_640_360_25fps.mp4\n",
      "40 :\n",
      "青春 youth\n",
      "duration: 17 file_type: video/mp4 width: 640 height: 360 link https://videos.pexels.com/video-files/3209298/3209298-sd_640_360_25fps.mp4\n",
      "41 :\n",
      "今天 today\n",
      "duration: 10 file_type: video/mp4 width: 1440 height: 2560 link https://videos.pexels.com/video-files/6650922/6650922-uhd_1440_2560_30fps.mp4\n",
      "42 :\n",
      "漫步 stroll\n",
      "duration: 4 file_type: video/mp4 width: 360 height: 640 link https://videos.pexels.com/video-files/31675802/13499623_360_640_24fps.mp4\n",
      "43 :\n",
      "港珠澳 Hong Kong, Zhuhai and Australia\n",
      "duration: 14 file_type: video/mp4 width: 640 height: 360 link https://videos.pexels.com/video-files/31740280/13523517_640_360_60fps.mp4\n",
      "44 :\n",
      "星空 Starry Sky\n",
      "duration: 24 file_type: video/mp4 width: 640 height: 360 link https://videos.pexels.com/video-files/857134/857134-sd_640_360_24fps.mp4\n",
      "45 :\n",
      "骄傲地 Proudly\n",
      "duration: 5 file_type: video/mp4 width: 640 height: 360 link https://videos.pexels.com/video-files/28933974/12521185_640_360_120fps.mp4\n",
      "46 :\n",
      "所愿 What you want\n",
      "duration: 9 file_type: video/mp4 width: 1920 height: 1080 link https://videos.pexels.com/video-files/5211964/5211964-hd_1920_1080_25fps.mp4\n"
     ]
    }
   ],
   "source": [
    "clip_list = clip_match(sentence_list, src_folder)"
   ]
  },
  {
   "cell_type": "code",
   "execution_count": 14,
   "metadata": {},
   "outputs": [
    {
     "name": "stderr",
     "output_type": "stream",
     "text": [
      "1.mp4: 100%|██████████| 1.83M/1.83M [00:01<00:00, 1.25MB/s]"
     ]
    },
    {
     "name": "stdout",
     "output_type": "stream",
     "text": [
      "视频下载完成：1.mp4\n"
     ]
    },
    {
     "name": "stderr",
     "output_type": "stream",
     "text": [
      "\n"
     ]
    }
   ],
   "source": [
    "download_video(clip_list[0].url, '1.mp4')"
   ]
  },
  {
   "cell_type": "code",
   "execution_count": null,
   "metadata": {},
   "outputs": [],
   "source": []
  }
 ],
 "metadata": {
  "kernelspec": {
   "display_name": "video",
   "language": "python",
   "name": "python3"
  },
  "language_info": {
   "codemirror_mode": {
    "name": "ipython",
    "version": 3
   },
   "file_extension": ".py",
   "mimetype": "text/x-python",
   "name": "python",
   "nbconvert_exporter": "python",
   "pygments_lexer": "ipython3",
   "version": "3.11.3"
  }
 },
 "nbformat": 4,
 "nbformat_minor": 2
}
