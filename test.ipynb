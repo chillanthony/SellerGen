{
 "cells": [
  {
   "cell_type": "code",
   "execution_count": 1,
   "metadata": {},
   "outputs": [],
   "source": [
    "import os\n",
    "from config import *\n",
    "from utils.text import *\n",
    "from utils.tts import *\n",
    "from utils.clipmatch import *"
   ]
  },
  {
   "cell_type": "code",
   "execution_count": 2,
   "metadata": {},
   "outputs": [],
   "source": [
    "# 创建路径变量\n",
    "theme = \"美国人民不愿意再支持特朗普的胡闹政策\"\n",
    "message_user_text_generation = message_user_text_generation_prompt + theme\n",
    "output_folder = os.path.join(\"output\", theme)\n",
    "src_folder = os.path.join(output_folder, \"src\")\n",
    "audio_path = os.path.join(output_folder, theme + \".wav\")\n",
    "video_path = os.path.join(output_folder, theme + \".mp4\")\n",
    "if not os.path.exists(output_folder):\n",
    "    os.makedirs(output_folder)\n",
    "if not os.path.exists(src_folder):\n",
    "    os.makedirs(src_folder)"
   ]
  },
  {
   "cell_type": "code",
   "execution_count": 3,
   "metadata": {},
   "outputs": [
    {
     "name": "stdout",
     "output_type": "stream",
     "text": [
      "你知道吗？当美国街头出现特朗普，我们受够了的涂鸦时，这个曾经高喊让美国再次伟大的总统，正在面临怎样的民意反噬？  2024年大选前的最后一个冬天，俄亥俄州的农场主詹姆斯卖掉了祖传的收割机。这个曾为特朗普2016年胜选立下汗马功劳的铁锈带蓝领，如今在镇议会怒吼：他承诺的制造业回流在哪里？而在佛罗里达，退休教师玛莎每天都要擦拭儿子在阿富汗留下的勋章——那个被特朗普突然撤军命令卷入爆炸的国民警卫队员，再也没能吃到妈妈做的苹果派。最戏剧性的转折发生在华尔街，曾为特朗普减税政策欢呼的投行精英们，正在秘密资助其竞选对手。当美国优先变成特朗普优先，连最忠实的支持者都开始质问：我们究竟还要为这场个人秀付出多少代价？  这场政治荒诞剧折射的，是西方民主制度在民粹浪潮中的集体迷失。当政治沦为真人秀，当国家利益让位于个人表演，每个普通人的生计都成了赌桌上的筹码。但历史总会证明，真正伟大的领导者从不需要靠推特治国，更不会用谎言编织王座。那些被煽动的仇恨终将反噬，被透支的信任总有清算的一天。此刻在纽约法院外排队领取特朗普集团破产传票的承包商们，或许正用最朴素的方式诠释着：民心向背，从来都是历史最公正的判官。  回望太平洋彼岸，从孙中山先生天下为公的呐喊，到钱学森冲破阻挠归国的航迹；从袁隆平院士蹲守稻田的身影，到张桂梅校长点燃的山村灯火。这些真正的民族脊梁，从不靠煽动对立获取支持，而是用赤子之心赢得永恒的爱戴。当某些政客还在计算选票得失时，中国共产党人早已将人民至上刻进基因。这种穿越百年的精神传承告诉我们：唯有把双脚扎进泥土的人，才配拥有星辰大海。\n"
     ]
    }
   ],
   "source": [
    "# 生成文案\n",
    "textconfig = TextConfig(message_system_text_generation, message_user_text_generation)\n",
    "text = one_round_chat(textconfig.message_system, textconfig.message_user, textconfig.max_tokens,\n",
    "               textconfig.temperature, textconfig.frequency_penalty, textconfig.max_retries)\n",
    "text = text_strip(text)\n",
    "print(text)"
   ]
  },
  {
   "cell_type": "code",
   "execution_count": 4,
   "metadata": {},
   "outputs": [
    {
     "name": "stdout",
     "output_type": "stream",
     "text": [
      "SynthesisStarted event\n",
      "SynthesisCompleted event:\n",
      "\tAudioData: 4161070 bytes\n",
      "\tAudioDuration: 0:02:09.937000\n",
      "audio saved to: output/美国人民不愿意再支持特朗普的胡闹政策/美国人民不愿意再支持特朗普的胡闹政策.wav\n"
     ]
    }
   ],
   "source": [
    "# Synthesize the SSML\n",
    "ttsconfig = TTSConfig(tts_voice_name, text, audio_path)\n",
    "\n",
    "# Text to speech \n",
    "word_boundary_list = text_to_speech(ttsconfig.ssml, audio_path)\n",
    "sentence_list = to_separated_sentence(word_boundary_list, audio_path)\n",
    "subtitle_list = to_subtitle(word_boundary_list, audio_path)"
   ]
  },
  {
   "cell_type": "code",
   "execution_count": 5,
   "metadata": {},
   "outputs": [
    {
     "name": "stderr",
     "output_type": "stream",
     "text": [
      "Building prefix dict from the default dictionary ...\n",
      "Loading model from cache /var/folders/24/9v0bz1wj3gn6dl2wvf0dkl7w0000gn/T/jieba.cache\n"
     ]
    },
    {
     "name": "stdout",
     "output_type": "stream",
     "text": [
      "1 / 37\n"
     ]
    },
    {
     "name": "stderr",
     "output_type": "stream",
     "text": [
      "Loading model cost 0.445 seconds.\n",
      "Prefix dict has been built successfully.\n"
     ]
    },
    {
     "name": "stdout",
     "output_type": "stream",
     "text": [
      "duration: 8 file_type: video/mp4 width: 426 height: 240 link https://videos.pexels.com/video-files/5696647/5696647-sd_426_240_30fps.mp4\n"
     ]
    },
    {
     "name": "stderr",
     "output_type": "stream",
     "text": [
      "0.mp4: 100%|██████████| 357k/357k [00:00<00:00, 693kB/s] \n"
     ]
    },
    {
     "name": "stdout",
     "output_type": "stream",
     "text": [
      "视频下载完成：output/美国人民不愿意再支持特朗普的胡闹政策/src/0.mp4\n",
      "2 / 37\n",
      "duration: 8 file_type: video/mp4 width: 640 height: 360 link https://videos.pexels.com/video-files/2177901/2177901-sd_640_360_30fps.mp4\n"
     ]
    },
    {
     "name": "stderr",
     "output_type": "stream",
     "text": [
      "1.mp4: 100%|██████████| 612k/612k [00:01<00:00, 603kB/s] \n"
     ]
    },
    {
     "name": "stdout",
     "output_type": "stream",
     "text": [
      "视频下载完成：output/美国人民不愿意再支持特朗普的胡闹政策/src/1.mp4\n",
      "3 / 37\n",
      "duration: 8 file_type: video/mp4 width: 1280 height: 720 link https://videos.pexels.com/video-files/5544703/5544703-hd_1280_720_24fps.mp4\n"
     ]
    },
    {
     "name": "stderr",
     "output_type": "stream",
     "text": [
      "2.mp4: 100%|██████████| 2.39M/2.39M [00:02<00:00, 1.11MB/s]\n"
     ]
    },
    {
     "name": "stdout",
     "output_type": "stream",
     "text": [
      "视频下载完成：output/美国人民不愿意再支持特朗普的胡闹政策/src/2.mp4\n",
      "4 / 37\n",
      "duration: 14 file_type: video/mp4 width: 640 height: 360 link https://videos.pexels.com/video-files/853946/853946-sd_640_360_25fps.mp4\n"
     ]
    },
    {
     "name": "stderr",
     "output_type": "stream",
     "text": [
      "3.mp4: 100%|██████████| 885k/885k [00:00<00:00, 1.27MB/s]\n"
     ]
    },
    {
     "name": "stdout",
     "output_type": "stream",
     "text": [
      "视频下载完成：output/美国人民不愿意再支持特朗普的胡闹政策/src/3.mp4\n",
      "5 / 37\n",
      "duration: 9 file_type: video/mp4 width: 1440 height: 2560 link https://videos.pexels.com/video-files/5528414/5528414-uhd_1440_2560_24fps.mp4\n"
     ]
    },
    {
     "name": "stderr",
     "output_type": "stream",
     "text": [
      "4.mp4: 100%|██████████| 12.8M/12.8M [00:12<00:00, 1.05MB/s]\n"
     ]
    },
    {
     "name": "stdout",
     "output_type": "stream",
     "text": [
      "视频下载完成：output/美国人民不愿意再支持特朗普的胡闹政策/src/4.mp4\n",
      "6 / 37\n",
      "duration: 8 file_type: video/mp4 width: 426 height: 240 link https://videos.pexels.com/video-files/5696647/5696647-sd_426_240_30fps.mp4\n"
     ]
    },
    {
     "name": "stderr",
     "output_type": "stream",
     "text": [
      "5.mp4: 100%|██████████| 357k/357k [00:00<00:00, 650kB/s] \n"
     ]
    },
    {
     "name": "stdout",
     "output_type": "stream",
     "text": [
      "视频下载完成：output/美国人民不愿意再支持特朗普的胡闹政策/src/5.mp4\n",
      "7 / 37\n",
      "duration: 9 file_type: video/mp4 width: 426 height: 240 link https://videos.pexels.com/video-files/6345129/6345129-sd_426_240_30fps.mp4\n"
     ]
    },
    {
     "name": "stderr",
     "output_type": "stream",
     "text": [
      "6.mp4: 100%|██████████| 419k/419k [00:00<00:00, 713kB/s] \n"
     ]
    },
    {
     "name": "stdout",
     "output_type": "stream",
     "text": [
      "视频下载完成：output/美国人民不愿意再支持特朗普的胡闹政策/src/6.mp4\n",
      "8 / 37\n",
      "duration: 8 file_type: video/mp4 width: 426 height: 240 link https://videos.pexels.com/video-files/5696647/5696647-sd_426_240_30fps.mp4\n"
     ]
    },
    {
     "name": "stderr",
     "output_type": "stream",
     "text": [
      "7.mp4: 100%|██████████| 357k/357k [00:00<00:00, 660kB/s] \n"
     ]
    },
    {
     "name": "stdout",
     "output_type": "stream",
     "text": [
      "视频下载完成：output/美国人民不愿意再支持特朗普的胡闹政策/src/7.mp4\n",
      "9 / 37\n",
      "duration: 7 file_type: video/mp4 width: 1080 height: 1920 link https://videos.pexels.com/video-files/9969032/9969032-hd_1080_1920_25fps.mp4\n"
     ]
    },
    {
     "name": "stderr",
     "output_type": "stream",
     "text": [
      "8.mp4: 100%|██████████| 4.89M/4.89M [00:04<00:00, 1.09MB/s]\n"
     ]
    },
    {
     "name": "stdout",
     "output_type": "stream",
     "text": [
      "视频下载完成：output/美国人民不愿意再支持特朗普的胡闹政策/src/8.mp4\n",
      "10 / 37\n",
      "duration: 7 file_type: video/mp4 width: 1920 height: 1080 link https://videos.pexels.com/video-files/2284984/2284984-hd_1920_1080_25fps.mp4\n"
     ]
    },
    {
     "name": "stderr",
     "output_type": "stream",
     "text": [
      "9.mp4: 100%|██████████| 4.68M/4.68M [00:04<00:00, 1.13MB/s]\n"
     ]
    },
    {
     "name": "stdout",
     "output_type": "stream",
     "text": [
      "视频下载完成：output/美国人民不愿意再支持特朗普的胡闹政策/src/9.mp4\n",
      "11 / 37\n",
      "duration: 8 file_type: video/mp4 width: 426 height: 240 link https://videos.pexels.com/video-files/5696647/5696647-sd_426_240_30fps.mp4\n"
     ]
    },
    {
     "name": "stderr",
     "output_type": "stream",
     "text": [
      "10.mp4: 100%|██████████| 357k/357k [00:00<00:00, 508kB/s] \n"
     ]
    },
    {
     "name": "stdout",
     "output_type": "stream",
     "text": [
      "视频下载完成：output/美国人民不愿意再支持特朗普的胡闹政策/src/10.mp4\n",
      "12 / 37\n",
      "duration: 7 file_type: video/mp4 width: 2048 height: 1080 link https://videos.pexels.com/video-files/4669328/4669328-hd_2048_1080_25fps.mp4\n"
     ]
    },
    {
     "name": "stderr",
     "output_type": "stream",
     "text": [
      "11.mp4: 100%|██████████| 4.37M/4.37M [00:01<00:00, 2.66MB/s]\n"
     ]
    },
    {
     "name": "stdout",
     "output_type": "stream",
     "text": [
      "视频下载完成：output/美国人民不愿意再支持特朗普的胡闹政策/src/11.mp4\n",
      "13 / 37\n",
      "duration: 9 file_type: video/mp4 width: 1920 height: 1080 link https://videos.pexels.com/video-files/9057678/9057678-hd_1920_1080_25fps.mp4\n"
     ]
    },
    {
     "name": "stderr",
     "output_type": "stream",
     "text": [
      "12.mp4: 100%|██████████| 5.83M/5.83M [00:06<00:00, 922kB/s] \n"
     ]
    },
    {
     "name": "stdout",
     "output_type": "stream",
     "text": [
      "视频下载完成：output/美国人民不愿意再支持特朗普的胡闹政策/src/12.mp4\n",
      "14 / 37\n",
      "duration: 8 file_type: video/mp4 width: 640 height: 360 link https://videos.pexels.com/video-files/8328474/8328474-sd_640_360_30fps.mp4\n"
     ]
    },
    {
     "name": "stderr",
     "output_type": "stream",
     "text": [
      "13.mp4: 100%|██████████| 628k/628k [00:00<00:00, 727kB/s]  \n"
     ]
    },
    {
     "name": "stdout",
     "output_type": "stream",
     "text": [
      "视频下载完成：output/美国人民不愿意再支持特朗普的胡闹政策/src/13.mp4\n",
      "15 / 37\n",
      "duration: 7 file_type: video/mp4 width: 640 height: 360 link https://videos.pexels.com/video-files/31801696/13548687_640_360_24fps.mp4\n"
     ]
    },
    {
     "name": "stderr",
     "output_type": "stream",
     "text": [
      "14.mp4: 100%|██████████| 1.03M/1.03M [00:01<00:00, 874kB/s] \n"
     ]
    },
    {
     "name": "stdout",
     "output_type": "stream",
     "text": [
      "视频下载完成：output/美国人民不愿意再支持特朗普的胡闹政策/src/14.mp4\n",
      "16 / 37\n",
      "duration: 9 file_type: video/mp4 width: 2560 height: 1440 link https://videos.pexels.com/video-files/7507640/7507640-uhd_2560_1440_25fps.mp4\n"
     ]
    },
    {
     "name": "stderr",
     "output_type": "stream",
     "text": [
      "15.mp4: 100%|██████████| 14.9M/14.9M [00:13<00:00, 1.10MB/s]\n"
     ]
    },
    {
     "name": "stdout",
     "output_type": "stream",
     "text": [
      "视频下载完成：output/美国人民不愿意再支持特朗普的胡闹政策/src/15.mp4\n",
      "17 / 37\n",
      "duration: 13 file_type: video/mp4 width: 1280 height: 720 link https://videos.pexels.com/video-files/3578236/3578236-hd_1280_720_25fps.mp4\n"
     ]
    },
    {
     "name": "stderr",
     "output_type": "stream",
     "text": [
      "16.mp4: 100%|██████████| 2.34M/2.34M [00:00<00:00, 2.61MB/s]\n"
     ]
    },
    {
     "name": "stdout",
     "output_type": "stream",
     "text": [
      "视频下载完成：output/美国人民不愿意再支持特朗普的胡闹政策/src/16.mp4\n",
      "18 / 37\n",
      "duration: 2 file_type: video/mp4 width: 1920 height: 1080 link https://videos.pexels.com/video-files/4376879/4376879-hd_1920_1080_30fps.mp4\n"
     ]
    },
    {
     "name": "stderr",
     "output_type": "stream",
     "text": [
      "17.mp4: 100%|██████████| 1.17M/1.17M [00:01<00:00, 915kB/s]\n"
     ]
    },
    {
     "name": "stdout",
     "output_type": "stream",
     "text": [
      "视频下载完成：output/美国人民不愿意再支持特朗普的胡闹政策/src/17.mp4\n",
      "19 / 37\n",
      "duration: 3 file_type: video/mp4 width: 1920 height: 1080 link https://videos.pexels.com/video-files/4118427/4118427-hd_1920_1080_24fps.mp4\n"
     ]
    },
    {
     "name": "stderr",
     "output_type": "stream",
     "text": [
      "18.mp4: 100%|██████████| 1.85M/1.85M [00:01<00:00, 992kB/s] \n"
     ]
    },
    {
     "name": "stdout",
     "output_type": "stream",
     "text": [
      "视频下载完成：output/美国人民不愿意再支持特朗普的胡闹政策/src/18.mp4\n",
      "20 / 37\n",
      "duration: 10 file_type: video/mp4 width: 540 height: 960 link https://videos.pexels.com/video-files/5995600/5995600-sd_540_960_24fps.mp4\n"
     ]
    },
    {
     "name": "stderr",
     "output_type": "stream",
     "text": [
      "19.mp4: 100%|██████████| 1.85M/1.85M [00:01<00:00, 976kB/s] \n"
     ]
    },
    {
     "name": "stdout",
     "output_type": "stream",
     "text": [
      "视频下载完成：output/美国人民不愿意再支持特朗普的胡闹政策/src/19.mp4\n",
      "21 / 37\n",
      "duration: 7 file_type: video/mp4 width: 540 height: 960 link https://videos.pexels.com/video-files/8111963/8111963-sd_540_960_30fps.mp4\n"
     ]
    },
    {
     "name": "stderr",
     "output_type": "stream",
     "text": [
      "20.mp4: 100%|██████████| 1.28M/1.28M [00:01<00:00, 926kB/s] \n"
     ]
    },
    {
     "name": "stdout",
     "output_type": "stream",
     "text": [
      "视频下载完成：output/美国人民不愿意再支持特朗普的胡闹政策/src/20.mp4\n",
      "22 / 37\n",
      "duration: 14 file_type: video/mp4 width: 640 height: 360 link https://videos.pexels.com/video-files/853946/853946-sd_640_360_25fps.mp4\n"
     ]
    },
    {
     "name": "stderr",
     "output_type": "stream",
     "text": [
      "21.mp4: 100%|██████████| 885k/885k [00:00<00:00, 932kB/s] \n"
     ]
    },
    {
     "name": "stdout",
     "output_type": "stream",
     "text": [
      "视频下载完成：output/美国人民不愿意再支持特朗普的胡闹政策/src/21.mp4\n",
      "23 / 37\n",
      "duration: 8 file_type: video/mp4 width: 540 height: 960 link https://videos.pexels.com/video-files/7947682/7947682-sd_540_960_24fps.mp4\n"
     ]
    },
    {
     "name": "stderr",
     "output_type": "stream",
     "text": [
      "22.mp4: 100%|██████████| 1.34M/1.34M [00:01<00:00, 928kB/s] \n"
     ]
    },
    {
     "name": "stdout",
     "output_type": "stream",
     "text": [
      "视频下载完成：output/美国人民不愿意再支持特朗普的胡闹政策/src/22.mp4\n",
      "24 / 37\n",
      "duration: 8 file_type: video/mp4 width: 426 height: 240 link https://videos.pexels.com/video-files/5696647/5696647-sd_426_240_30fps.mp4\n"
     ]
    },
    {
     "name": "stderr",
     "output_type": "stream",
     "text": [
      "23.mp4: 100%|██████████| 357k/357k [00:00<00:00, 578kB/s] \n"
     ]
    },
    {
     "name": "stdout",
     "output_type": "stream",
     "text": [
      "视频下载完成：output/美国人民不愿意再支持特朗普的胡闹政策/src/23.mp4\n",
      "25 / 37\n",
      "duration: 12 file_type: video/mp4 width: 720 height: 1248 link https://videos.pexels.com/video-files/6813718/6813718-hd_720_1248_30fps.mp4\n"
     ]
    },
    {
     "name": "stderr",
     "output_type": "stream",
     "text": [
      "24.mp4: 100%|██████████| 1.81M/1.81M [00:01<00:00, 1.12MB/s]\n"
     ]
    },
    {
     "name": "stdout",
     "output_type": "stream",
     "text": [
      "视频下载完成：output/美国人民不愿意再支持特朗普的胡闹政策/src/24.mp4\n",
      "26 / 37\n",
      "duration: 8 file_type: video/mp4 width: 2048 height: 1080 link https://videos.pexels.com/video-files/6101337/6101337-hd_2048_1080_30fps.mp4\n"
     ]
    },
    {
     "name": "stderr",
     "output_type": "stream",
     "text": [
      "25.mp4: 100%|██████████| 5.35M/5.35M [00:04<00:00, 1.08MB/s]\n"
     ]
    },
    {
     "name": "stdout",
     "output_type": "stream",
     "text": [
      "视频下载完成：output/美国人民不愿意再支持特朗普的胡闹政策/src/25.mp4\n",
      "27 / 37\n",
      "duration: 16 file_type: video/mp4 width: 506 height: 960 link https://videos.pexels.com/video-files/9836544/9836544-sd_506_960_25fps.mp4\n"
     ]
    },
    {
     "name": "stderr",
     "output_type": "stream",
     "text": [
      "26.mp4: 100%|██████████| 2.43M/2.43M [00:02<00:00, 1.05MB/s]\n"
     ]
    },
    {
     "name": "stdout",
     "output_type": "stream",
     "text": [
      "视频下载完成：output/美国人民不愿意再支持特朗普的胡闹政策/src/26.mp4\n",
      "28 / 37\n",
      "duration: 3 file_type: video/mp4 width: 1440 height: 2560 link https://videos.pexels.com/video-files/19561073/19561073-uhd_1440_2560_60fps.mp4\n"
     ]
    },
    {
     "name": "stderr",
     "output_type": "stream",
     "text": [
      "27.mp4: 100%|██████████| 7.49M/7.49M [00:06<00:00, 1.11MB/s]\n"
     ]
    },
    {
     "name": "stdout",
     "output_type": "stream",
     "text": [
      "视频下载完成：output/美国人民不愿意再支持特朗普的胡闹政策/src/27.mp4\n",
      "29 / 37\n",
      "duration: 8 file_type: video/mp4 width: 1920 height: 1080 link https://videos.pexels.com/video-files/4859729/4859729-hd_1920_1080_25fps.mp4\n"
     ]
    },
    {
     "name": "stderr",
     "output_type": "stream",
     "text": [
      "28.mp4: 100%|██████████| 4.91M/4.91M [00:04<00:00, 1.07MB/s]\n"
     ]
    },
    {
     "name": "stdout",
     "output_type": "stream",
     "text": [
      "视频下载完成：output/美国人民不愿意再支持特朗普的胡闹政策/src/28.mp4\n",
      "30 / 37\n",
      "duration: 14 file_type: video/mp4 width: 640 height: 360 link https://videos.pexels.com/video-files/853946/853946-sd_640_360_25fps.mp4\n"
     ]
    },
    {
     "name": "stderr",
     "output_type": "stream",
     "text": [
      "29.mp4: 100%|██████████| 885k/885k [00:00<00:00, 888kB/s] \n"
     ]
    },
    {
     "name": "stdout",
     "output_type": "stream",
     "text": [
      "视频下载完成：output/美国人民不愿意再支持特朗普的胡闹政策/src/29.mp4\n",
      "31 / 37\n",
      "duration: 10 file_type: video/mp4 width: 360 height: 640 link https://videos.pexels.com/video-files/31713852/13512381_360_640_25fps.mp4\n"
     ]
    },
    {
     "name": "stderr",
     "output_type": "stream",
     "text": [
      "30.mp4: 100%|██████████| 565k/565k [00:00<00:00, 906kB/s] \n"
     ]
    },
    {
     "name": "stdout",
     "output_type": "stream",
     "text": [
      "视频下载完成：output/美国人民不愿意再支持特朗普的胡闹政策/src/30.mp4\n",
      "32 / 37\n",
      "duration: 8 file_type: video/mp4 width: 720 height: 1280 link https://videos.pexels.com/video-files/6868890/6868890-hd_720_1280_30fps.mp4\n"
     ]
    },
    {
     "name": "stderr",
     "output_type": "stream",
     "text": [
      "31.mp4: 100%|██████████| 2.82M/2.82M [00:02<00:00, 954kB/s] \n"
     ]
    },
    {
     "name": "stdout",
     "output_type": "stream",
     "text": [
      "视频下载完成：output/美国人民不愿意再支持特朗普的胡闹政策/src/31.mp4\n",
      "33 / 37\n",
      "duration: 7 file_type: video/mp4 width: 640 height: 360 link https://videos.pexels.com/video-files/4475997/4475997-sd_640_360_25fps.mp4\n"
     ]
    },
    {
     "name": "stderr",
     "output_type": "stream",
     "text": [
      "32.mp4: 100%|██████████| 554k/554k [00:00<00:00, 884kB/s] \n"
     ]
    },
    {
     "name": "stdout",
     "output_type": "stream",
     "text": [
      "视频下载完成：output/美国人民不愿意再支持特朗普的胡闹政策/src/32.mp4\n",
      "34 / 37\n",
      "duration: 10 file_type: video/mp4 width: 426 height: 240 link https://videos.pexels.com/video-files/6172967/6172967-sd_426_240_30fps.mp4\n"
     ]
    },
    {
     "name": "stderr",
     "output_type": "stream",
     "text": [
      "33.mp4: 100%|██████████| 445k/445k [00:00<00:00, 681kB/s] \n"
     ]
    },
    {
     "name": "stdout",
     "output_type": "stream",
     "text": [
      "视频下载完成：output/美国人民不愿意再支持特朗普的胡闹政策/src/33.mp4\n",
      "35 / 37\n",
      "duration: 17 file_type: video/mp4 width: 426 height: 240 link https://videos.pexels.com/video-files/4253642/4253642-sd_426_240_25fps.mp4\n"
     ]
    },
    {
     "name": "stderr",
     "output_type": "stream",
     "text": [
      "34.mp4: 100%|██████████| 766k/766k [00:01<00:00, 656kB/s] \n"
     ]
    },
    {
     "name": "stdout",
     "output_type": "stream",
     "text": [
      "视频下载完成：output/美国人民不愿意再支持特朗普的胡闹政策/src/34.mp4\n",
      "36 / 37\n",
      "duration: 9 file_type: video/mp4 width: 640 height: 338 link https://videos.pexels.com/video-files/4761763/4761763-sd_640_338_25fps.mp4\n"
     ]
    },
    {
     "name": "stderr",
     "output_type": "stream",
     "text": [
      "35.mp4: 100%|██████████| 553k/553k [00:00<00:00, 770kB/s]  \n"
     ]
    },
    {
     "name": "stdout",
     "output_type": "stream",
     "text": [
      "视频下载完成：output/美国人民不愿意再支持特朗普的胡闹政策/src/35.mp4\n",
      "37 / 37\n",
      "duration: 4 file_type: video/mp4 width: 1280 height: 720 link https://videos.pexels.com/video-files/1877846/1877846-hd_1280_720_30fps.mp4\n"
     ]
    },
    {
     "name": "stderr",
     "output_type": "stream",
     "text": [
      "36.mp4: 100%|██████████| 1.10M/1.10M [00:00<00:00, 1.45MB/s]"
     ]
    },
    {
     "name": "stdout",
     "output_type": "stream",
     "text": [
      "视频下载完成：output/美国人民不愿意再支持特朗普的胡闹政策/src/36.mp4\n"
     ]
    },
    {
     "name": "stderr",
     "output_type": "stream",
     "text": [
      "\n"
     ]
    }
   ],
   "source": [
    "clip_list = clip_match(sentence_list, src_folder)"
   ]
  },
  {
   "cell_type": "code",
   "execution_count": null,
   "metadata": {},
   "outputs": [],
   "source": [
    "video_generation(clip_list, video_path)"
   ]
  }
 ],
 "metadata": {
  "kernelspec": {
   "display_name": "video",
   "language": "python",
   "name": "python3"
  },
  "language_info": {
   "codemirror_mode": {
    "name": "ipython",
    "version": 3
   },
   "file_extension": ".py",
   "mimetype": "text/x-python",
   "name": "python",
   "nbconvert_exporter": "python",
   "pygments_lexer": "ipython3",
   "version": "3.11.3"
  }
 },
 "nbformat": 4,
 "nbformat_minor": 2
}
