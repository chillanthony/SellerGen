{
 "cells": [
  {
   "cell_type": "code",
   "execution_count": 1,
   "metadata": {},
   "outputs": [
    {
     "name": "stdout",
     "output_type": "stream",
     "text": [
      "Intel MKL WARNING: Support of Intel(R) Streaming SIMD Extensions 4.2 (Intel(R) SSE4.2) enabled only processors has been deprecated. Intel oneAPI Math Kernel Library 2025.0 will require Intel(R) Advanced Vector Extensions (Intel(R) AVX) instructions.\n",
      "Intel MKL WARNING: Support of Intel(R) Streaming SIMD Extensions 4.2 (Intel(R) SSE4.2) enabled only processors has been deprecated. Intel oneAPI Math Kernel Library 2025.0 will require Intel(R) Advanced Vector Extensions (Intel(R) AVX) instructions.\n"
     ]
    }
   ],
   "source": [
    "import os\n",
    "from config import *\n",
    "from utils.text import *\n",
    "from utils.tts import *\n",
    "from utils.clipmatch import *\n",
    "from utils.fusevideo import *"
   ]
  },
  {
   "cell_type": "code",
   "execution_count": 2,
   "metadata": {},
   "outputs": [],
   "source": [
    "# 创建路径变量\n",
    "theme = \"美国人民不愿意再支持特朗普的胡闹政策\"\n",
    "message_user_text_generation = message_user_text_generation_prompt + theme\n",
    "output_folder = os.path.join(\"output\", theme)\n",
    "src_folder = os.path.join(output_folder, \"src\")\n",
    "audio_path = os.path.join(output_folder, theme + \".wav\")\n",
    "video_path = os.path.join(output_folder, theme + \".mp4\")\n",
    "if not os.path.exists(output_folder):\n",
    "    os.makedirs(output_folder)\n",
    "if not os.path.exists(src_folder):\n",
    "    os.makedirs(src_folder)"
   ]
  },
  {
   "cell_type": "code",
   "execution_count": 3,
   "metadata": {},
   "outputs": [
    {
     "name": "stdout",
     "output_type": "stream",
     "text": [
      "你知道为什么连最忠诚的红脖子也开始在特朗普的集会上偷偷离场吗？当这位前总统第137次在演讲中宣称只要我当选，油价立刻降回1美元时，连场外的流浪汉都忍不住摇头苦笑。  佛罗里达州坦帕市的农机店老板鲍勃曾把特朗普画像挂在收银台上方整整七年。去年飓风来袭时，他眼睁睁看着联邦应急管理局的救援车队绕过他的小镇——只因该县在中期选举时投给了民主党。而真正击垮这位铁杆支持者的，是他发现女儿大学申请的平权法案救济金，竟被改用于修建美墨边境的特效墙。在拆除画像的直播视频里，这个满脸风霜的德州汉子突然哽咽：我们以为他是来砸碎华盛顿的锤子，结果他把自己锻造成了新权杖。  这种政治幻灭正在锈带州蔓延。俄亥俄的汽车工人发现，所谓让制造业回家的承诺，最终只带回了中国进口零件的组装车间。艾奥瓦州的豆农们看着堆积如山的滞销大豆，才明白贸易战从来不是棋局，而是他们被当作弃子的赌博。就连华尔街的金领们都开始担忧——当这位真人秀明星第8次威胁关闭证监会时，连最贪婪的对冲基金经理都意识到：疯狂也该有条底线。  这不禁让人想起林肯在葛底斯堡的诘问：民有、民治、民享的政府真的会从地球上消失吗？当政治沦为个人恩怨的扩音器，当国家利益成为推特骂战的赌注，那些被煽动起来的愤怒终将反噬煽动者自己。或许美国人民正在觉醒：真正的变革从不来自某个救世主夸张的手势，而是千万普通人清醒的选择。  回望太平洋彼岸，从詹天佑顶着列强嘲讽修筑京张铁路，到钱学森冲破阻挠归国铸剑；从王进喜跳进泥浆池的纵身一跃，到袁隆平蹲在稻田里的半个世纪。这些民族的脊梁从未将个人意志凌驾于人民利益之上，他们用毕生心血诠释着何谓功成不必在我，功成必定有我。今天，当我们在高铁上遥望秦岭隧道，在杂交水稻田边抚摸饱满的稻穗，终于懂得：真正的伟大，从来都是把人民举过头顶，而非将自我奉上神坛。\n"
     ]
    }
   ],
   "source": [
    "# 生成文案\n",
    "textconfig = TextConfig(message_system_text_generation, message_user_text_generation)\n",
    "text = one_round_chat(textconfig.message_system, textconfig.message_user, textconfig.max_tokens,\n",
    "               textconfig.temperature, textconfig.frequency_penalty, textconfig.max_retries)\n",
    "text = text_strip(text)\n",
    "print(text)"
   ]
  },
  {
   "cell_type": "code",
   "execution_count": 4,
   "metadata": {},
   "outputs": [
    {
     "name": "stdout",
     "output_type": "stream",
     "text": [
      "SynthesisStarted event\n",
      "SynthesisCompleted event:\n",
      "\tAudioData: 4737070 bytes\n",
      "\tAudioDuration: 0:02:27.950000\n",
      "audio saved to: output/美国人民不愿意再支持特朗普的胡闹政策/美国人民不愿意再支持特朗普的胡闹政策.wav\n"
     ]
    }
   ],
   "source": [
    "# Synthesize the SSML\n",
    "ttsconfig = TTSConfig(tts_voice_name, text, audio_path)\n",
    "\n",
    "# Text to speech \n",
    "word_boundary_list = text_to_speech(ttsconfig.ssml, audio_path)\n",
    "sentence_list = to_separated_sentence(word_boundary_list, audio_path)\n",
    "subtitle_list = to_subtitle(word_boundary_list, audio_path)"
   ]
  },
  {
   "cell_type": "code",
   "execution_count": 5,
   "metadata": {},
   "outputs": [
    {
     "name": "stderr",
     "output_type": "stream",
     "text": [
      "Building prefix dict from the default dictionary ...\n",
      "Loading model from cache /var/folders/24/9v0bz1wj3gn6dl2wvf0dkl7w0000gn/T/jieba.cache\n"
     ]
    },
    {
     "name": "stdout",
     "output_type": "stream",
     "text": [
      "1 / 39\n"
     ]
    },
    {
     "name": "stderr",
     "output_type": "stream",
     "text": [
      "Loading model cost 0.484 seconds.\n",
      "Prefix dict has been built successfully.\n"
     ]
    },
    {
     "name": "stdout",
     "output_type": "stream",
     "text": [
      "duration: 8 file_type: video/mp4 width: 426 height: 240 link https://videos.pexels.com/video-files/5696647/5696647-sd_426_240_30fps.mp4\n"
     ]
    },
    {
     "name": "stderr",
     "output_type": "stream",
     "text": [
      "0.mp4: 100%|██████████| 357k/357k [00:00<00:00, 660kB/s] \n"
     ]
    },
    {
     "name": "stdout",
     "output_type": "stream",
     "text": [
      "视频下载完成：output/美国人民不愿意再支持特朗普的胡闹政策/src/0.mp4\n",
      "2 / 39\n",
      "duration: 7 file_type: video/mp4 width: 1920 height: 1080 link https://videos.pexels.com/video-files/5738706/5738706-hd_1920_1080_24fps.mp4\n"
     ]
    },
    {
     "name": "stderr",
     "output_type": "stream",
     "text": [
      "1.mp4: 100%|██████████| 4.43M/4.43M [00:03<00:00, 1.14MB/s]\n"
     ]
    },
    {
     "name": "stdout",
     "output_type": "stream",
     "text": [
      "视频下载完成：output/美国人民不愿意再支持特朗普的胡闹政策/src/1.mp4\n",
      "3 / 39\n",
      "duration: 30 file_type: video/mp4 width: 1280 height: 720 link https://videos.pexels.com/video-files/3998660/3998660-hd_1280_720_24fps.mp4\n"
     ]
    },
    {
     "name": "stderr",
     "output_type": "stream",
     "text": [
      "2.mp4: 100%|██████████| 10.9M/10.9M [00:09<00:00, 1.14MB/s]\n"
     ]
    },
    {
     "name": "stdout",
     "output_type": "stream",
     "text": [
      "视频下载完成：output/美国人民不愿意再支持特朗普的胡闹政策/src/2.mp4\n",
      "4 / 39\n",
      "duration: 8 file_type: video/mp4 width: 426 height: 240 link https://videos.pexels.com/video-files/5696647/5696647-sd_426_240_30fps.mp4\n"
     ]
    },
    {
     "name": "stderr",
     "output_type": "stream",
     "text": [
      "3.mp4: 100%|██████████| 357k/357k [00:00<00:00, 608kB/s] \n"
     ]
    },
    {
     "name": "stdout",
     "output_type": "stream",
     "text": [
      "视频下载完成：output/美国人民不愿意再支持特朗普的胡闹政策/src/3.mp4\n",
      "5 / 39\n",
      "duration: 12 file_type: video/mp4 width: 1280 height: 720 link https://videos.pexels.com/video-files/6963744/6963744-hd_1280_720_25fps.mp4\n"
     ]
    },
    {
     "name": "stderr",
     "output_type": "stream",
     "text": [
      "4.mp4: 100%|██████████| 4.11M/4.11M [00:03<00:00, 1.09MB/s]\n"
     ]
    },
    {
     "name": "stdout",
     "output_type": "stream",
     "text": [
      "视频下载完成：output/美国人民不愿意再支持特朗普的胡闹政策/src/4.mp4\n",
      "6 / 39\n",
      "duration: 17 file_type: video/mp4 width: 426 height: 240 link https://videos.pexels.com/video-files/6700258/6700258-sd_426_240_25fps.mp4\n"
     ]
    },
    {
     "name": "stderr",
     "output_type": "stream",
     "text": [
      "5.mp4: 100%|██████████| 613k/613k [00:00<00:00, 805kB/s]  \n"
     ]
    },
    {
     "name": "stdout",
     "output_type": "stream",
     "text": [
      "视频下载完成：output/美国人民不愿意再支持特朗普的胡闹政策/src/5.mp4\n",
      "7 / 39\n",
      "duration: 7 file_type: video/mp4 width: 426 height: 240 link https://videos.pexels.com/video-files/2865276/2865276-sd_426_240_30fps.mp4\n"
     ]
    },
    {
     "name": "stderr",
     "output_type": "stream",
     "text": [
      "6.mp4: 100%|██████████| 259k/259k [00:00<00:00, 504kB/s]  \n"
     ]
    },
    {
     "name": "stdout",
     "output_type": "stream",
     "text": [
      "视频下载完成：output/美国人民不愿意再支持特朗普的胡闹政策/src/6.mp4\n",
      "8 / 39\n",
      "duration: 4 file_type: video/mp4 width: 640 height: 360 link https://videos.pexels.com/video-files/5286261/5286261-sd_640_360_30fps.mp4\n"
     ]
    },
    {
     "name": "stderr",
     "output_type": "stream",
     "text": [
      "7.mp4: 100%|██████████| 182k/182k [00:00<00:00, 424kB/s] \n"
     ]
    },
    {
     "name": "stdout",
     "output_type": "stream",
     "text": [
      "视频下载完成：output/美国人民不愿意再支持特朗普的胡闹政策/src/7.mp4\n",
      "9 / 39\n",
      "duration: 6 file_type: video/mp4 width: 426 height: 226 link https://videos.pexels.com/video-files/6976681/6976681-sd_426_226_24fps.mp4\n"
     ]
    },
    {
     "name": "stderr",
     "output_type": "stream",
     "text": [
      "8.mp4: 100%|██████████| 239k/239k [00:00<00:00, 499kB/s] \n"
     ]
    },
    {
     "name": "stdout",
     "output_type": "stream",
     "text": [
      "视频下载完成：output/美国人民不愿意再支持特朗普的胡闹政策/src/8.mp4\n",
      "10 / 39\n",
      "duration: 7 file_type: video/mp4 width: 240 height: 426 link https://videos.pexels.com/video-files/9032408/9032408-sd_240_426_25fps.mp4\n"
     ]
    },
    {
     "name": "stderr",
     "output_type": "stream",
     "text": [
      "9.mp4: 100%|██████████| 306k/306k [00:00<00:00, 600kB/s] \n"
     ]
    },
    {
     "name": "stdout",
     "output_type": "stream",
     "text": [
      "视频下载完成：output/美国人民不愿意再支持特朗普的胡闹政策/src/9.mp4\n",
      "11 / 39\n",
      "duration: 12 file_type: video/mp4 width: 1280 height: 720 link https://videos.pexels.com/video-files/6502930/6502930-hd_1280_720_25fps.mp4\n"
     ]
    },
    {
     "name": "stderr",
     "output_type": "stream",
     "text": [
      "10.mp4: 100%|██████████| 4.33M/4.33M [00:03<00:00, 1.23MB/s]\n"
     ]
    },
    {
     "name": "stdout",
     "output_type": "stream",
     "text": [
      "视频下载完成：output/美国人民不愿意再支持特朗普的胡闹政策/src/10.mp4\n",
      "12 / 39\n",
      "duration: 8 file_type: video/mp4 width: 720 height: 1280 link https://videos.pexels.com/video-files/8170425/8170425-hd_720_1280_25fps.mp4\n"
     ]
    },
    {
     "name": "stderr",
     "output_type": "stream",
     "text": [
      "11.mp4: 100%|██████████| 2.37M/2.37M [00:01<00:00, 1.24MB/s]\n"
     ]
    },
    {
     "name": "stdout",
     "output_type": "stream",
     "text": [
      "视频下载完成：output/美国人民不愿意再支持特朗普的胡闹政策/src/11.mp4\n",
      "13 / 39\n",
      "duration: 8 file_type: video/mp4 width: 640 height: 360 link https://videos.pexels.com/video-files/31734227/13520811_640_360_60fps.mp4\n"
     ]
    },
    {
     "name": "stderr",
     "output_type": "stream",
     "text": [
      "12.mp4: 100%|██████████| 494k/494k [00:00<00:00, 754kB/s] \n"
     ]
    },
    {
     "name": "stdout",
     "output_type": "stream",
     "text": [
      "视频下载完成：output/美国人民不愿意再支持特朗普的胡闹政策/src/12.mp4\n",
      "14 / 39\n",
      "duration: 19 file_type: video/mp4 width: 1080 height: 2048 link https://videos.pexels.com/video-files/4488737/4488737-hd_1080_2048_25fps.mp4\n"
     ]
    },
    {
     "name": "stderr",
     "output_type": "stream",
     "text": [
      "13.mp4: 100%|██████████| 3.83M/3.83M [00:03<00:00, 1.13MB/s]\n"
     ]
    },
    {
     "name": "stdout",
     "output_type": "stream",
     "text": [
      "视频下载完成：output/美国人民不愿意再支持特朗普的胡闹政策/src/13.mp4\n",
      "15 / 39\n",
      "duration: 7 file_type: video/mp4 width: 426 height: 240 link https://videos.pexels.com/video-files/2865276/2865276-sd_426_240_30fps.mp4\n"
     ]
    },
    {
     "name": "stderr",
     "output_type": "stream",
     "text": [
      "14.mp4: 100%|██████████| 259k/259k [00:00<00:00, 539kB/s] \n"
     ]
    },
    {
     "name": "stdout",
     "output_type": "stream",
     "text": [
      "视频下载完成：output/美国人民不愿意再支持特朗普的胡闹政策/src/14.mp4\n",
      "16 / 39\n",
      "duration: 7 file_type: video/mp4 width: 480 height: 270 link https://videos.pexels.com/video-files/852388/852388-sd_480_270_24fps.mp4\n"
     ]
    },
    {
     "name": "stderr",
     "output_type": "stream",
     "text": [
      "15.mp4: 100%|██████████| 358k/358k [00:00<00:00, 652kB/s] \n"
     ]
    },
    {
     "name": "stdout",
     "output_type": "stream",
     "text": [
      "视频下载完成：output/美国人民不愿意再支持特朗普的胡闹政策/src/15.mp4\n",
      "17 / 39\n",
      "duration: 9 file_type: video/mp4 width: 640 height: 360 link https://videos.pexels.com/video-files/1324936/1324936-sd_640_360_24fps.mp4\n"
     ]
    },
    {
     "name": "stderr",
     "output_type": "stream",
     "text": [
      "16.mp4: 100%|██████████| 671k/671k [00:00<00:00, 806kB/s] \n"
     ]
    },
    {
     "name": "stdout",
     "output_type": "stream",
     "text": [
      "视频下载完成：output/美国人民不愿意再支持特朗普的胡闹政策/src/16.mp4\n",
      "18 / 39\n",
      "duration: 7 file_type: video/mp4 width: 1920 height: 1080 link https://videos.pexels.com/video-files/6134543/6134543-hd_1920_1080_25fps.mp4\n"
     ]
    },
    {
     "name": "stderr",
     "output_type": "stream",
     "text": [
      "17.mp4: 100%|██████████| 4.73M/4.73M [00:03<00:00, 1.23MB/s]\n"
     ]
    },
    {
     "name": "stdout",
     "output_type": "stream",
     "text": [
      "视频下载完成：output/美国人民不愿意再支持特朗普的胡闹政策/src/17.mp4\n",
      "19 / 39\n",
      "duration: 8 file_type: video/mp4 width: 640 height: 360 link https://videos.pexels.com/video-files/31802189/13548913_640_360_30fps.mp4\n"
     ]
    },
    {
     "name": "stderr",
     "output_type": "stream",
     "text": [
      "18.mp4: 100%|██████████| 366k/366k [00:00<00:00, 532kB/s] \n"
     ]
    },
    {
     "name": "stdout",
     "output_type": "stream",
     "text": [
      "视频下载完成：output/美国人民不愿意再支持特朗普的胡闹政策/src/18.mp4\n",
      "20 / 39\n",
      "duration: 9 file_type: video/mp4 width: 2560 height: 1440 link https://videos.pexels.com/video-files/7507640/7507640-uhd_2560_1440_25fps.mp4\n"
     ]
    },
    {
     "name": "stderr",
     "output_type": "stream",
     "text": [
      "19.mp4: 100%|██████████| 14.9M/14.9M [00:02<00:00, 6.57MB/s]\n"
     ]
    },
    {
     "name": "stdout",
     "output_type": "stream",
     "text": [
      "视频下载完成：output/美国人民不愿意再支持特朗普的胡闹政策/src/19.mp4\n",
      "21 / 39\n",
      "duration: 10 file_type: video/mp4 width: 426 height: 240 link https://videos.pexels.com/video-files/2792370/2792370-sd_426_240_30fps.mp4\n"
     ]
    },
    {
     "name": "stderr",
     "output_type": "stream",
     "text": [
      "20.mp4: 100%|██████████| 481k/481k [00:00<00:00, 638kB/s] \n"
     ]
    },
    {
     "name": "stdout",
     "output_type": "stream",
     "text": [
      "视频下载完成：output/美国人民不愿意再支持特朗普的胡闹政策/src/20.mp4\n",
      "22 / 39\n",
      "duration: 21 file_type: video/mp4 width: 960 height: 540 link https://videos.pexels.com/video-files/12135936/12135936-sd_960_540_30fps.mp4\n"
     ]
    },
    {
     "name": "stderr",
     "output_type": "stream",
     "text": [
      "21.mp4: 100%|██████████| 5.03M/5.03M [00:04<00:00, 1.12MB/s]\n"
     ]
    },
    {
     "name": "stdout",
     "output_type": "stream",
     "text": [
      "视频下载完成：output/美国人民不愿意再支持特朗普的胡闹政策/src/21.mp4\n",
      "23 / 39\n",
      "duration: 10 file_type: video/mp4 width: 540 height: 960 link https://videos.pexels.com/video-files/5995600/5995600-sd_540_960_24fps.mp4\n"
     ]
    },
    {
     "name": "stderr",
     "output_type": "stream",
     "text": [
      "22.mp4: 100%|██████████| 1.85M/1.85M [00:01<00:00, 1.04MB/s]\n"
     ]
    },
    {
     "name": "stdout",
     "output_type": "stream",
     "text": [
      "视频下载完成：output/美国人民不愿意再支持特朗普的胡闹政策/src/22.mp4\n",
      "24 / 39\n",
      "duration: 14 file_type: video/mp4 width: 640 height: 360 link https://videos.pexels.com/video-files/853946/853946-sd_640_360_25fps.mp4\n"
     ]
    },
    {
     "name": "stderr",
     "output_type": "stream",
     "text": [
      "23.mp4: 100%|██████████| 885k/885k [00:00<00:00, 993kB/s] \n"
     ]
    },
    {
     "name": "stdout",
     "output_type": "stream",
     "text": [
      "视频下载完成：output/美国人民不愿意再支持特朗普的胡闹政策/src/23.mp4\n",
      "25 / 39\n",
      "duration: 7 file_type: video/mp4 width: 1920 height: 1080 link https://videos.pexels.com/video-files/3978822/3978822-hd_1920_1080_27fps.mp4\n"
     ]
    },
    {
     "name": "stderr",
     "output_type": "stream",
     "text": [
      "24.mp4: 100%|██████████| 4.35M/4.35M [00:03<00:00, 1.11MB/s]\n"
     ]
    },
    {
     "name": "stdout",
     "output_type": "stream",
     "text": [
      "视频下载完成：output/美国人民不愿意再支持特朗普的胡闹政策/src/24.mp4\n",
      "26 / 39\n",
      "duration: 2 file_type: video/mp4 width: 1920 height: 1080 link https://videos.pexels.com/video-files/4376879/4376879-hd_1920_1080_30fps.mp4\n"
     ]
    },
    {
     "name": "stderr",
     "output_type": "stream",
     "text": [
      "25.mp4: 100%|██████████| 1.17M/1.17M [00:01<00:00, 1.15MB/s]\n"
     ]
    },
    {
     "name": "stdout",
     "output_type": "stream",
     "text": [
      "视频下载完成：output/美国人民不愿意再支持特朗普的胡闹政策/src/25.mp4\n",
      "27 / 39\n",
      "duration: 16 file_type: video/mp4 width: 506 height: 960 link https://videos.pexels.com/video-files/9836544/9836544-sd_506_960_25fps.mp4\n"
     ]
    },
    {
     "name": "stderr",
     "output_type": "stream",
     "text": [
      "26.mp4: 100%|██████████| 2.43M/2.43M [00:00<00:00, 2.76MB/s]\n"
     ]
    },
    {
     "name": "stdout",
     "output_type": "stream",
     "text": [
      "视频下载完成：output/美国人民不愿意再支持特朗普的胡闹政策/src/26.mp4\n",
      "28 / 39\n",
      "duration: 14 file_type: video/mp4 width: 640 height: 360 link https://videos.pexels.com/video-files/853946/853946-sd_640_360_25fps.mp4\n"
     ]
    },
    {
     "name": "stderr",
     "output_type": "stream",
     "text": [
      "27.mp4: 100%|██████████| 885k/885k [00:01<00:00, 878kB/s]  \n"
     ]
    },
    {
     "name": "stdout",
     "output_type": "stream",
     "text": [
      "视频下载完成：output/美国人民不愿意再支持特朗普的胡闹政策/src/27.mp4\n",
      "29 / 39\n",
      "duration: 6 file_type: video/mp4 width: 1280 height: 720 link https://videos.pexels.com/video-files/18190624/18190624-hd_1280_720_30fps.mp4\n"
     ]
    },
    {
     "name": "stderr",
     "output_type": "stream",
     "text": [
      "28.mp4: 100%|██████████| 2.77M/2.77M [00:00<00:00, 3.04MB/s]\n"
     ]
    },
    {
     "name": "stdout",
     "output_type": "stream",
     "text": [
      "视频下载完成：output/美国人民不愿意再支持特朗普的胡闹政策/src/28.mp4\n",
      "30 / 39\n",
      "duration: 31 file_type: video/mp4 width: 640 height: 360 link https://videos.pexels.com/video-files/30091744/12906156_640_360_25fps.mp4\n"
     ]
    },
    {
     "name": "stderr",
     "output_type": "stream",
     "text": [
      "29.mp4: 100%|██████████| 4.41M/4.41M [00:04<00:00, 1.06MB/s]\n"
     ]
    },
    {
     "name": "stdout",
     "output_type": "stream",
     "text": [
      "视频下载完成：output/美国人民不愿意再支持特朗普的胡闹政策/src/29.mp4\n",
      "31 / 39\n",
      "duration: 9 file_type: video/mp4 width: 640 height: 360 link https://videos.pexels.com/video-files/4957783/4957783-sd_640_360_25fps.mp4\n"
     ]
    },
    {
     "name": "stderr",
     "output_type": "stream",
     "text": [
      "30.mp4: 100%|██████████| 705k/705k [00:00<00:00, 915kB/s] \n"
     ]
    },
    {
     "name": "stdout",
     "output_type": "stream",
     "text": [
      "视频下载完成：output/美国人民不愿意再支持特朗普的胡闹政策/src/30.mp4\n",
      "32 / 39\n",
      "duration: 10 file_type: video/mp4 width: 426 height: 240 link https://videos.pexels.com/video-files/3254013/3254013-sd_426_240_25fps.mp4\n"
     ]
    },
    {
     "name": "stderr",
     "output_type": "stream",
     "text": [
      "31.mp4: 100%|██████████| 430k/430k [00:00<00:00, 727kB/s] \n"
     ]
    },
    {
     "name": "stdout",
     "output_type": "stream",
     "text": [
      "视频下载完成：output/美国人民不愿意再支持特朗普的胡闹政策/src/31.mp4\n",
      "33 / 39\n",
      "duration: 10 file_type: video/mp4 width: 426 height: 240 link https://videos.pexels.com/video-files/3254013/3254013-sd_426_240_25fps.mp4\n"
     ]
    },
    {
     "name": "stderr",
     "output_type": "stream",
     "text": [
      "32.mp4: 100%|██████████| 430k/430k [00:00<00:00, 644kB/s] \n"
     ]
    },
    {
     "name": "stdout",
     "output_type": "stream",
     "text": [
      "视频下载完成：output/美国人民不愿意再支持特朗普的胡闹政策/src/32.mp4\n",
      "34 / 39\n",
      "duration: 6 file_type: video/mp4 width: 426 height: 226 link https://videos.pexels.com/video-files/3959710/3959710-sd_426_226_25fps.mp4\n"
     ]
    },
    {
     "name": "stderr",
     "output_type": "stream",
     "text": [
      "33.mp4: 100%|██████████| 228k/228k [00:00<00:00, 597kB/s] \n"
     ]
    },
    {
     "name": "stdout",
     "output_type": "stream",
     "text": [
      "视频下载完成：output/美国人民不愿意再支持特朗普的胡闹政策/src/33.mp4\n",
      "35 / 39\n",
      "duration: 11 file_type: video/mp4 width: 640 height: 360 link https://videos.pexels.com/video-files/31752064/13527810_640_360_25fps.mp4\n"
     ]
    },
    {
     "name": "stderr",
     "output_type": "stream",
     "text": [
      "34.mp4: 100%|██████████| 391k/391k [00:00<00:00, 644kB/s]  \n"
     ]
    },
    {
     "name": "stdout",
     "output_type": "stream",
     "text": [
      "视频下载完成：output/美国人民不愿意再支持特朗普的胡闹政策/src/34.mp4\n",
      "36 / 39\n",
      "duration: 2 file_type: video/mp4 width: 360 height: 640 link https://videos.pexels.com/video-files/31767704/13533792_360_640_30fps.mp4\n"
     ]
    },
    {
     "name": "stderr",
     "output_type": "stream",
     "text": [
      "35.mp4: 100%|██████████| 137k/137k [00:00<00:00, 490kB/s] \n"
     ]
    },
    {
     "name": "stdout",
     "output_type": "stream",
     "text": [
      "视频下载完成：output/美国人民不愿意再支持特朗普的胡闹政策/src/35.mp4\n",
      "37 / 39\n",
      "duration: 10 file_type: video/mp4 width: 640 height: 360 link https://videos.pexels.com/video-files/4920381/4920381-sd_640_360_30fps.mp4\n"
     ]
    },
    {
     "name": "stderr",
     "output_type": "stream",
     "text": [
      "36.mp4: 100%|██████████| 426k/426k [00:00<00:00, 753kB/s] \n"
     ]
    },
    {
     "name": "stdout",
     "output_type": "stream",
     "text": [
      "视频下载完成：output/美国人民不愿意再支持特朗普的胡闹政策/src/36.mp4\n",
      "38 / 39\n",
      "duration: 7 file_type: video/mp4 width: 640 height: 360 link https://videos.pexels.com/video-files/7575917/7575917-sd_640_360_24fps.mp4\n"
     ]
    },
    {
     "name": "stderr",
     "output_type": "stream",
     "text": [
      "37.mp4: 100%|██████████| 547k/547k [00:00<00:00, 859kB/s] \n"
     ]
    },
    {
     "name": "stdout",
     "output_type": "stream",
     "text": [
      "视频下载完成：output/美国人民不愿意再支持特朗普的胡闹政策/src/37.mp4\n",
      "39 / 39\n",
      "duration: 10 file_type: video/mp4 width: 640 height: 360 link https://videos.pexels.com/video-files/31789764/13542650_640_360_25fps.mp4\n"
     ]
    },
    {
     "name": "stderr",
     "output_type": "stream",
     "text": [
      "38.mp4: 100%|██████████| 371k/371k [00:00<00:00, 491kB/s]  "
     ]
    },
    {
     "name": "stdout",
     "output_type": "stream",
     "text": [
      "视频下载完成：output/美国人民不愿意再支持特朗普的胡闹政策/src/38.mp4\n"
     ]
    },
    {
     "name": "stderr",
     "output_type": "stream",
     "text": [
      "\n"
     ]
    }
   ],
   "source": [
    "clip_list = clip_match(sentence_list, src_folder)"
   ]
  },
  {
   "cell_type": "code",
   "execution_count": 6,
   "metadata": {},
   "outputs": [
    {
     "name": "stdout",
     "output_type": "stream",
     "text": [
      "Moviepy - Building video output/美国人民不愿意再支持特朗普的胡闹政策/美国人民不愿意再支持特朗普的胡闹政策.mp4.\n",
      "MoviePy - Writing audio in 美国人民不愿意再支持特朗普的胡闹政策TEMP_MPY_wvf_snd.mp3\n"
     ]
    },
    {
     "name": "stderr",
     "output_type": "stream",
     "text": [
      "                                                                      \r"
     ]
    },
    {
     "name": "stdout",
     "output_type": "stream",
     "text": [
      "MoviePy - Done.\n",
      "Moviepy - Writing video output/美国人民不愿意再支持特朗普的胡闹政策/美国人民不愿意再支持特朗普的胡闹政策.mp4\n",
      "\n"
     ]
    },
    {
     "name": "stderr",
     "output_type": "stream",
     "text": [
      "                                                                 \r"
     ]
    },
    {
     "name": "stdout",
     "output_type": "stream",
     "text": [
      "Moviepy - Done !\n",
      "Moviepy - video ready output/美国人民不愿意再支持特朗普的胡闹政策/美国人民不愿意再支持特朗普的胡闹政策.mp4\n"
     ]
    }
   ],
   "source": [
    "video_generation(clip_list, video_path)"
   ]
  },
  {
   "cell_type": "code",
   "execution_count": 7,
   "metadata": {},
   "outputs": [
    {
     "name": "stdout",
     "output_type": "stream",
     "text": [
      "Moviepy - Building video output.mp4.\n",
      "MoviePy - Writing audio in outputTEMP_MPY_wvf_snd.mp4\n"
     ]
    },
    {
     "name": "stderr",
     "output_type": "stream",
     "text": [
      "                                                                      \r"
     ]
    },
    {
     "name": "stdout",
     "output_type": "stream",
     "text": [
      "MoviePy - Done.\n",
      "Moviepy - Writing video output.mp4\n",
      "\n"
     ]
    },
    {
     "name": "stderr",
     "output_type": "stream",
     "text": [
      "                                                                 \r"
     ]
    },
    {
     "name": "stdout",
     "output_type": "stream",
     "text": [
      "Moviepy - Done !\n",
      "Moviepy - video ready output.mp4\n"
     ]
    }
   ],
   "source": [
    "from moviepy.editor import VideoFileClip, AudioFileClip, concatenate_audioclips\n",
    "from moviepy.audio.AudioClip import AudioClip\n",
    "import numpy as np\n",
    "\n",
    "def replace_video_audio(video_path, audio_path, output_path):\n",
    "    # 加载视频\n",
    "    video = VideoFileClip(video_path).without_audio()\n",
    "    \n",
    "    # 加载音频\n",
    "    audio = AudioFileClip(audio_path)\n",
    "    \n",
    "    # 如果音频比视频长，截断音频\n",
    "    if audio.duration > video.duration:\n",
    "        audio = audio.subclip(0, video.duration)\n",
    "    else:\n",
    "        # 如果音频短，创建静音clip\n",
    "        silence_duration = video.duration - audio.duration\n",
    "        \n",
    "        # 创建一个静音的AudioClip\n",
    "        silence = AudioClip(\n",
    "            make_frame=lambda t: np.zeros((1,)), \n",
    "            duration=silence_duration\n",
    "        ).set_fps(audio.fps)\n",
    "        \n",
    "        # 拼接原音频 + 静音\n",
    "        audio = concatenate_audioclips([audio, silence])\n",
    "    \n",
    "    # 把新音频设置到视频上\n",
    "    final_video = video.set_audio(audio)\n",
    "    \n",
    "    # 输出文件\n",
    "    final_video.write_videofile(output_path, codec='libx264', audio_codec='aac')\n",
    "\n",
    "\n",
    "replace_video_audio(video_path, audio_path, 'output.mp4')"
   ]
  },
  {
   "cell_type": "code",
   "execution_count": null,
   "metadata": {},
   "outputs": [],
   "source": []
  }
 ],
 "metadata": {
  "kernelspec": {
   "display_name": "video",
   "language": "python",
   "name": "python3"
  },
  "language_info": {
   "codemirror_mode": {
    "name": "ipython",
    "version": 3
   },
   "file_extension": ".py",
   "mimetype": "text/x-python",
   "name": "python",
   "nbconvert_exporter": "python",
   "pygments_lexer": "ipython3",
   "version": "3.11.3"
  }
 },
 "nbformat": 4,
 "nbformat_minor": 2
}
